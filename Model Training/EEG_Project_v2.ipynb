{
  "nbformat": 4,
  "nbformat_minor": 0,
  "metadata": {
    "colab": {
      "provenance": [],
      "collapsed_sections": [
        "Y-OaZ_wkRcIR",
        "gskaTOcjHgIl",
        "36JLwJd9zGcN"
      ]
    },
    "kernelspec": {
      "name": "python3",
      "display_name": "Python 3"
    },
    "language_info": {
      "name": "python"
    },
    "accelerator": "GPU",
    "gpuClass": "standard"
  },
  "cells": [
    {
      "cell_type": "markdown",
      "source": [
        "# Setup"
      ],
      "metadata": {
        "id": "Y-OaZ_wkRcIR"
      }
    },
    {
      "cell_type": "code",
      "execution_count": null,
      "metadata": {
        "id": "Q84BD2jwRCJ-"
      },
      "outputs": [],
      "source": [
        "!rm -r sample_data "
      ]
    },
    {
      "cell_type": "code",
      "source": [
        "from google.colab import drive\n",
        "\n",
        "drive.mount('/content/drive')"
      ],
      "metadata": {
        "id": "ieXI2g5A87Tr",
        "colab": {
          "base_uri": "https://localhost:8080/"
        },
        "outputId": "9d2d5c90-cb20-4dda-8db2-0bb37c6c16cc"
      },
      "execution_count": null,
      "outputs": [
        {
          "output_type": "stream",
          "name": "stdout",
          "text": [
            "Mounted at /content/drive\n"
          ]
        }
      ]
    },
    {
      "cell_type": "markdown",
      "source": [
        "# Data"
      ],
      "metadata": {
        "id": "x-ASzZ_6Rd2y"
      }
    },
    {
      "cell_type": "markdown",
      "source": [
        "## Labelling"
      ],
      "metadata": {
        "id": "gskaTOcjHgIl"
      }
    },
    {
      "cell_type": "code",
      "source": [
        "import os\n",
        "\n",
        "PATH = \"/content/drive/MyDrive/Data/Capstone RealTime Data/Day_4/\"\n",
        "files = os.listdir(PATH)\n",
        "files = [f.strip('.json') for f in files]\n",
        "files = [f.strip('.csv') for f in files]\n",
        "files = list(set(files))\n",
        "\n",
        "remove_list = []\n",
        "for f in files:\n",
        "    if f.endswith(\"_final\")==1:\n",
        "        # print(f)\n",
        "        remove_list.append(f)\n",
        "        remove_list.append(f.strip('_final'))\n",
        "for x in remove_list:\n",
        "    files.remove(x)\n",
        "files "
      ],
      "metadata": {
        "colab": {
          "base_uri": "https://localhost:8080/"
        },
        "id": "VHbNSTUnARcs",
        "outputId": "8193c2ab-a056-4a22-802f-7727fde1285b"
      },
      "execution_count": null,
      "outputs": [
        {
          "output_type": "execute_result",
          "data": {
            "text/plain": [
              "['Subject_1_EPOCFLEX_164574_2022.11.15T15.47.56+05.30',\n",
              " 'Subject_1_EPOCFLEX_164574_2022.11.15T16.04.23+05.30',\n",
              " 'Subject_1_EPOCFLEX_164574_2022.11.15T16.08.42+05.30',\n",
              " 'Subject_1_EPOCFLEX_164574_2022.11.15T15.14.02+05.30',\n",
              " 'Subject_1_EPOCFLEX_164574_2022.11.15T15.22.12+05.30',\n",
              " 'Subject_1_EPOCFLEX_164574_2022.11.15T16.00.28+05.30',\n",
              " 'Subject_1_EPOCFLEX_164574_2022.11.15T15.25.54+05.30',\n",
              " 'Subject_1_EPOCFLEX_164574_2022.11.15T15.42.39+05.30',\n",
              " 'Subject_1_EPOCFLEX_164574_2022.11.15T15.56.32+05.30',\n",
              " 'Subject_1_EPOCFLEX_164574_2022.11.15T16.14.40+05.30',\n",
              " 'Subject_1_EPOCFLEX_164574_2022.11.15T15.08.08+05.30',\n",
              " 'Subject_1_EPOCFLEX_164574_2022.11.15T15.33.58+05.30',\n",
              " 'Subject_1_EPOCFLEX_164574_2022.11.15T15.52.10+05.30',\n",
              " 'Subject_1_EPOCFLEX_164574_2022.11.15T15.38.12+05.30',\n",
              " 'Subject_1_EPOCFLEX_164574_2022.11.15T15.11.53+05.30']"
            ]
          },
          "metadata": {},
          "execution_count": 3
        }
      ]
    },
    {
      "cell_type": "code",
      "source": [
        "import pandas as pd\n",
        "import json\n",
        "import dateutil.parser as dp\n",
        "\n",
        "labels_to_index = {'rest':0, \n",
        "                   'grab':1, \n",
        "                   'release':2,\n",
        "                   'elbow_up':3, \n",
        "                   'elbow_down':4, \n",
        "                   'wrist_supination':5,\n",
        "                   'wrist_pronation':6,\n",
        "                   'shoulder_right':7,\n",
        "                   'shoulder_left':8,\n",
        "                   'None':-1}\n",
        "\n",
        "def labelsToIndex(label):\n",
        "    return labels_to_index[label]\n",
        "\n",
        "def returnLabel(timestamp):\n",
        "    with open(json_file_path, 'r') as j:\n",
        "        i=0\n",
        "        data = json.loads(j.read())\n",
        "        while i<len(data['Markers'])-2:\n",
        "           startDT = dp.parse(data['Markers'][i]['startDatetime']).timestamp()\n",
        "           endDT = dp.parse(data['Markers'][i+1]['startDatetime']).timestamp()\n",
        "           if startDT <= timestamp <= endDT:\n",
        "               return data['Markers'][i]['label']\n",
        "           i=i+1\n",
        "    return \"None\"\n",
        "\n",
        "dfs = []\n",
        "for f in files:\n",
        "    print(f)\n",
        "    json_file_path = PATH + f + '.json'\n",
        "    csv_file_path = PATH + f + '.csv'\n",
        "\n",
        "    df = pd.read_csv(csv_file_path, skiprows=1)\n",
        "\n",
        "    df['Movement Label Name'] = df.apply(lambda row: returnLabel(row['Timestamp']), axis=1)\n",
        "    df['Movement Label Index'] = df.apply(lambda row: labelsToIndex(row['Movement Label Name']), axis=1)\n",
        "    df.to_csv(PATH + f + '_final.csv')"
      ],
      "metadata": {
        "id": "NJi7u9q2RtR9",
        "colab": {
          "base_uri": "https://localhost:8080/"
        },
        "outputId": "0e9c4c47-63c2-4228-e932-3145bd5fc5ba"
      },
      "execution_count": null,
      "outputs": [
        {
          "output_type": "stream",
          "name": "stdout",
          "text": [
            "Subject_1_EPOCFLEX_164574_2022.11.15T15.47.56+05.30\n",
            "Subject_1_EPOCFLEX_164574_2022.11.15T16.04.23+05.30\n",
            "Subject_1_EPOCFLEX_164574_2022.11.15T16.08.42+05.30\n",
            "Subject_1_EPOCFLEX_164574_2022.11.15T15.14.02+05.30\n",
            "Subject_1_EPOCFLEX_164574_2022.11.15T15.22.12+05.30\n",
            "Subject_1_EPOCFLEX_164574_2022.11.15T16.00.28+05.30\n",
            "Subject_1_EPOCFLEX_164574_2022.11.15T15.25.54+05.30\n",
            "Subject_1_EPOCFLEX_164574_2022.11.15T15.42.39+05.30\n",
            "Subject_1_EPOCFLEX_164574_2022.11.15T15.56.32+05.30\n",
            "Subject_1_EPOCFLEX_164574_2022.11.15T16.14.40+05.30\n",
            "Subject_1_EPOCFLEX_164574_2022.11.15T15.08.08+05.30\n",
            "Subject_1_EPOCFLEX_164574_2022.11.15T15.33.58+05.30\n",
            "Subject_1_EPOCFLEX_164574_2022.11.15T15.52.10+05.30\n",
            "Subject_1_EPOCFLEX_164574_2022.11.15T15.38.12+05.30\n",
            "Subject_1_EPOCFLEX_164574_2022.11.15T15.11.53+05.30\n"
          ]
        }
      ]
    },
    {
      "cell_type": "markdown",
      "source": [
        "## Making Sequences"
      ],
      "metadata": {
        "id": "ze-f7mYTHqdC"
      }
    },
    {
      "cell_type": "code",
      "source": [
        "import os\n",
        "\n",
        "PATH = \"/content/drive/MyDrive/Data/Capstone RealTime Data/\"\n",
        "files = [\"Day_2/\"+f for f in os.listdir(PATH+\"Day_2/\")]\n",
        "files.extend([\"Day_3/\"+f for f in os.listdir(PATH+\"Day_3/\")])\n",
        "files.extend([\"Day_4/\"+f for f in os.listdir(PATH+\"Day_4/\")])\n",
        "files = [f for f in files if f.endswith('_final.csv')]\n",
        "files = list(set(files))\n",
        "files "
      ],
      "metadata": {
        "colab": {
          "base_uri": "https://localhost:8080/"
        },
        "id": "AS9PUP7MHwSi",
        "outputId": "82a92b3b-8d85-43e9-bc37-58eada968cf9"
      },
      "execution_count": null,
      "outputs": [
        {
          "output_type": "execute_result",
          "data": {
            "text/plain": [
              "['Day_3/Subject_1_EPOCFLEX_164574_2022.11.11T11.57.12+05.30_final.csv',\n",
              " 'Day_4/Subject_1_EPOCFLEX_164574_2022.11.15T15.14.02+05.30_final.csv',\n",
              " 'Day_2/Subject_1_EPOCFLEX_164574_2022.10.19T14.48.23+05.30_final.csv',\n",
              " 'Day_3/Subject_1_EPOCFLEX_164574_2022.11.11T12.02.06+05.30_final.csv',\n",
              " 'Day_3/Subject_1_EPOCFLEX_164574_2022.11.11T12.34.55+05.30_final.csv',\n",
              " 'Day_3/Subject_1_EPOCFLEX_164574_2022.11.11T12.43.58+05.30_final.csv',\n",
              " 'Day_4/Subject_1_EPOCFLEX_164574_2022.11.15T15.25.54+05.30_final.csv',\n",
              " 'Day_3/Subject_1_EPOCFLEX_164574_2022.11.11T11.45.38+05.30_final.csv',\n",
              " 'Day_4/Subject_1_EPOCFLEX_164574_2022.11.15T16.00.28+05.30_final.csv',\n",
              " 'Day_3/Subject_1_EPOCFLEX_164574_2022.11.11T11.14.33+05.30_final.csv',\n",
              " 'Day_2/Subject_1_EPOCFLEX_164574_2022.10.19T14.30.57+05.30_final.csv',\n",
              " 'Day_3/Subject_1_EPOCFLEX_164574_2022.11.11T12.10.23+05.30_final.csv',\n",
              " 'Day_3/Subject_1_EPOCFLEX_164574_2022.11.11T12.36.16+05.30_final.csv',\n",
              " 'Day_4/Subject_1_EPOCFLEX_164574_2022.11.15T15.56.32+05.30_final.csv',\n",
              " 'Day_3/Subject_1_EPOCFLEX_164574_2022.11.11T11.46.20+05.30_final.csv',\n",
              " 'Day_4/Subject_1_EPOCFLEX_164574_2022.11.15T15.08.08+05.30_final.csv',\n",
              " 'Day_4/Subject_1_EPOCFLEX_164574_2022.11.15T16.14.40+05.30_final.csv',\n",
              " 'Day_4/Subject_1_EPOCFLEX_164574_2022.11.15T15.38.12+05.30_final.csv',\n",
              " 'Day_3/Subject_1_EPOCFLEX_164574_2022.11.11T12.01.03+05.30_final.csv',\n",
              " 'Day_3/Subject_1_EPOCFLEX_164574_2022.11.11T11.59.23+05.30_final.csv',\n",
              " 'Day_2/Subject_1_EPOCFLEX_164574_2022.10.19T14.15.49+05.30_final.csv',\n",
              " 'Day_4/Subject_1_EPOCFLEX_164574_2022.11.15T15.33.58+05.30_final.csv',\n",
              " 'Day_3/Subject_1_EPOCFLEX_164574_2022.11.11T11.20.53+05.30_final.csv',\n",
              " 'Day_2/Subject_1_EPOCFLEX_164574_2022.10.19T14.02.47+05.30_final.csv',\n",
              " 'Day_2/Subject_1_EPOCFLEX_164574_2022.10.19T14.40.44+05.30_final.csv',\n",
              " 'Day_4/Subject_1_EPOCFLEX_164574_2022.11.15T15.11.53+05.30_final.csv',\n",
              " 'Day_3/Subject_1_EPOCFLEX_164574_2022.11.11T11.53.13+05.30_final.csv',\n",
              " 'Day_2/Subject_1_EPOCFLEX_164574_2022.10.19T14.10.41+05.30_final.csv',\n",
              " 'Day_3/Subject_1_EPOCFLEX_164574_2022.11.11T11.23.00+05.30_final.csv',\n",
              " 'Day_2/Subject_1_EPOCFLEX_164574_2022.10.19T14.20.58+05.30_final.csv',\n",
              " 'Day_2/Subject_1_EPOCFLEX_164574_2022.10.19T14.11.53+05.30_final.csv',\n",
              " 'Day_3/Subject_1_EPOCFLEX_164574_2022.11.11T12.39.00+05.30_final.csv',\n",
              " 'Day_2/Subject_1_EPOCFLEX_164574_2022.10.19T14.49.09+05.30_final.csv',\n",
              " 'Day_2/Subject_1_EPOCFLEX_164574_2022.10.19T14.46.24+05.30_final.csv',\n",
              " 'Day_4/Subject_1_EPOCFLEX_164574_2022.11.15T16.08.42+05.30_final.csv',\n",
              " 'Day_4/Subject_1_EPOCFLEX_164574_2022.11.15T15.22.12+05.30_final.csv',\n",
              " 'Day_4/Subject_1_EPOCFLEX_164574_2022.11.15T15.47.56+05.30_final.csv',\n",
              " 'Day_4/Subject_1_EPOCFLEX_164574_2022.11.15T16.04.23+05.30_final.csv',\n",
              " 'Day_3/Subject_1_EPOCFLEX_164574_2022.11.11T11.17.39+05.30_final.csv',\n",
              " 'Day_4/Subject_1_EPOCFLEX_164574_2022.11.15T15.42.39+05.30_final.csv',\n",
              " 'Day_3/Subject_1_EPOCFLEX_164574_2022.11.11T12.24.55+05.30_final.csv',\n",
              " 'Day_3/Subject_1_EPOCFLEX_164574_2022.11.11T11.48.19+05.30_final.csv',\n",
              " 'Day_3/Subject_1_EPOCFLEX_164574_2022.11.11T12.15.46+05.30_final.csv',\n",
              " 'Day_4/Subject_1_EPOCFLEX_164574_2022.11.15T15.52.10+05.30_final.csv',\n",
              " 'Day_2/Subject_1_EPOCFLEX_164574_2022.10.19T13.59.14+05.30_final.csv',\n",
              " 'Day_2/Subject_1_EPOCFLEX_164574_2022.10.19T13.54.57+05.30_final.csv',\n",
              " 'Day_2/Subject_1_EPOCFLEX_164574_2022.10.19T14.24.49+05.30_final.csv']"
            ]
          },
          "metadata": {},
          "execution_count": 3
        }
      ]
    },
    {
      "cell_type": "code",
      "source": [
        "import pandas as pd\n",
        "\n",
        "columns = ['EEG.Cz', 'EEG.Fz', 'EEG.Fp1', 'EEG.F7', 'EEG.F3', 'EEG.FC1', \n",
        "           'EEG.C3', 'EEG.FC5','EEG.FT9', 'EEG.T7', 'EEG.CP5', 'EEG.CP1', \n",
        "           'EEG.P3', 'EEG.P7', 'EEG.PO9', 'EEG.O1', 'EEG.Pz', 'EEG.Oz', \n",
        "           'EEG.O2', 'EEG.PO10', 'EEG.P8', 'EEG.P4', 'EEG.CP2', 'EEG.CP6', \n",
        "           'EEG.T8', 'EEG.FT10', 'EEG.FC6', 'EEG.C4', 'EEG.FC2', 'EEG.F4', \n",
        "           'EEG.F8', 'EEG.Fp2', 'Movement Label Index', 'Movement Label Name']\n",
        "\n",
        "prev_df = pd.DataFrame({})\n",
        "for f in files:\n",
        "    df = pd.read_csv(PATH+f)\n",
        "    df = df[columns]\n",
        "    prev_df = pd.concat([prev_df, df])\n",
        "    print(prev_df.shape)\n",
        "df = prev_df"
      ],
      "metadata": {
        "id": "09ekcJwI6eFK",
        "colab": {
          "base_uri": "https://localhost:8080/"
        },
        "outputId": "83e2326e-4335-4956-edb9-b0134c11ec45"
      },
      "execution_count": null,
      "outputs": [
        {
          "output_type": "stream",
          "name": "stdout",
          "text": [
            "(6987, 34)\n",
            "(20970, 34)\n",
            "(25197, 34)\n",
            "(28396, 34)\n",
            "(33685, 34)\n",
            "(43773, 34)\n",
            "(65209, 34)\n",
            "(67725, 34)\n",
            "(91922, 34)\n",
            "(106035, 34)\n",
            "(134302, 34)\n",
            "(147310, 34)\n",
            "(161932, 34)\n",
            "(179127, 34)\n",
            "(184830, 34)\n",
            "(194359, 34)\n",
            "(227902, 34)\n",
            "(249725, 34)\n",
            "(253291, 34)\n",
            "(256058, 34)\n",
            "(263554, 34)\n",
            "(286195, 34)\n",
            "(295940, 34)\n",
            "(310655, 34)\n",
            "(325957, 34)\n",
            "(334064, 34)\n",
            "(336283, 34)\n",
            "(341521, 34)\n",
            "(358005, 34)\n",
            "(365863, 34)\n",
            "(375034, 34)\n",
            "(392798, 34)\n",
            "(398235, 34)\n",
            "(402460, 34)\n",
            "(423811, 34)\n",
            "(433427, 34)\n",
            "(450830, 34)\n",
            "(472658, 34)\n",
            "(480695, 34)\n",
            "(501898, 34)\n",
            "(510132, 34)\n",
            "(512863, 34)\n",
            "(528498, 34)\n",
            "(549843, 34)\n",
            "(563828, 34)\n",
            "(587515, 34)\n",
            "(610168, 34)\n"
          ]
        }
      ]
    },
    {
      "cell_type": "code",
      "source": [
        "# df['Movement Label Index'] = df['Movement Label Index'].replace(-1, 0) # none = rest\n",
        "df = df.loc[df['Movement Label Index'] >= 0] # remove none\n",
        "\n",
        "num_labels = 9\n",
        "\n",
        "df['Movement Label Name'].value_counts()"
      ],
      "metadata": {
        "colab": {
          "base_uri": "https://localhost:8080/"
        },
        "id": "JhqYrOKIOAEQ",
        "outputId": "d67a4e39-9b7f-4c73-abf2-12bcdb78a23a"
      },
      "execution_count": null,
      "outputs": [
        {
          "output_type": "execute_result",
          "data": {
            "text/plain": [
              "elbow_up            71793\n",
              "grab                69273\n",
              "elbow_down          68395\n",
              "release             53905\n",
              "wrist_supination    52563\n",
              "wrist_pronation     48767\n",
              "shoulder_right      42850\n",
              "shoulder_left       41300\n",
              "rest                34517\n",
              "Name: Movement Label Name, dtype: int64"
            ]
          },
          "metadata": {},
          "execution_count": 5
        }
      ]
    },
    {
      "cell_type": "code",
      "source": [
        "df['Movement Label Index'].value_counts()"
      ],
      "metadata": {
        "colab": {
          "base_uri": "https://localhost:8080/"
        },
        "id": "Yhtio3saPcEe",
        "outputId": "6b4a24a9-1de8-4c5b-b98b-9169ecc0f580"
      },
      "execution_count": null,
      "outputs": [
        {
          "output_type": "execute_result",
          "data": {
            "text/plain": [
              "3    71793\n",
              "1    69273\n",
              "4    68395\n",
              "2    53905\n",
              "5    52563\n",
              "6    48767\n",
              "7    42850\n",
              "8    41300\n",
              "0    34517\n",
              "Name: Movement Label Index, dtype: int64"
            ]
          },
          "metadata": {},
          "execution_count": 6
        }
      ]
    },
    {
      "cell_type": "code",
      "source": [
        "import numpy as np\n",
        "\n",
        "X = df.iloc[:, :32].values\n",
        "y = df.iloc[:, 32].values.reshape(-1, 1)\n",
        "\n",
        "# one-hot encoding\n",
        "new_y = []\n",
        "for i in y:\n",
        "    a = np.zeros(num_labels)\n",
        "    a[i] = 1\n",
        "    new_y.append(a)\n",
        "y = np.array(new_y)\n",
        "\n",
        "X.shape, y.shape "
      ],
      "metadata": {
        "colab": {
          "base_uri": "https://localhost:8080/"
        },
        "id": "f6LDgTryPA1q",
        "outputId": "08fcb1d4-b38e-4060-e922-a943eef922e9"
      },
      "execution_count": null,
      "outputs": [
        {
          "output_type": "execute_result",
          "data": {
            "text/plain": [
              "((483363, 32), (483363, 9))"
            ]
          },
          "metadata": {},
          "execution_count": 7
        }
      ]
    },
    {
      "cell_type": "code",
      "source": [
        "from sklearn.model_selection import train_test_split\n",
        "\n",
        "X_train, X_test, y_train, y_test = train_test_split(X, y, test_size=0.2, random_state=42)\n",
        "X_val, X_test, y_val, y_test = train_test_split(X_test, y_test, test_size=0.5, random_state=42)\n",
        "\n",
        "X_train.shape, y_train.shape, X_val.shape, y_val.shape, X_test.shape, y_test.shape"
      ],
      "metadata": {
        "colab": {
          "base_uri": "https://localhost:8080/"
        },
        "id": "MWdthAYwPloM",
        "outputId": "8145e0bf-9d1f-4861-bf68-fe210a4cbd64"
      },
      "execution_count": null,
      "outputs": [
        {
          "output_type": "execute_result",
          "data": {
            "text/plain": [
              "((386690, 32), (386690, 9), (48336, 32), (48336, 9), (48337, 32), (48337, 9))"
            ]
          },
          "metadata": {},
          "execution_count": 8
        }
      ]
    },
    {
      "cell_type": "markdown",
      "source": [
        "# Tensorflow GA-LSTM\n",
        "using http://aqibsaeed.github.io/2017-08-11-genetic-algorithm-for-optimizing-rnn/"
      ],
      "metadata": {
        "id": "36JLwJd9zGcN"
      }
    },
    {
      "cell_type": "code",
      "source": [
        "from sklearn.metrics import mean_squared_error\n",
        "from tensorflow.keras.models import Sequential\n",
        "from tensorflow.keras.layers import Dense, LSTM, Activation\n",
        "from tensorflow import keras\n",
        "import tensorflow as tf \n",
        "import numpy as np "
      ],
      "metadata": {
        "id": "_OMt1jsRzGGa"
      },
      "execution_count": null,
      "outputs": []
    },
    {
      "cell_type": "code",
      "source": [
        "from tensorflow.keras.utils import Sequence\n",
        "\n",
        "class DataGeneratorTimeSeries(Sequence):\n",
        "    def __init__(self, X, y, n_steps_in, batch_size=64, shuffle=True):\n",
        "        self.X = X\n",
        "        self.y = y\n",
        "        self.n_steps_in = n_steps_in\n",
        "        self.batch_size = batch_size\n",
        "        self.shuffle = shuffle\n",
        "        self.on_epoch_end()\n",
        "    \n",
        "    def __len__(self):\n",
        "        return int(np.ceil((self.X.shape[0]-self.n_steps_in)/float(self.batch_size)))\n",
        "\n",
        "    def get_seq(self, i):\n",
        "        end_ix = i+self.n_steps_in\n",
        "        seq_x, seq_y = self.X[i:end_ix], self.y[end_ix-1:end_ix]\n",
        "        return seq_x, seq_y\n",
        "\n",
        "    def __getitem__(self, index):\n",
        "        if (index+1)*self.batch_size > self.X.shape[0]:\n",
        "            batch = self.indexes[index*self.batch_size:]\n",
        "        else:\n",
        "            batch = self.indexes[index*self.batch_size:(index+1)*self.batch_size]\n",
        "\n",
        "        X, y = [], []\n",
        "        for i in batch:\n",
        "            X_item, y_item = self.get_seq(i)\n",
        "            X.append(X_item)\n",
        "            y.append(y_item)\n",
        "\n",
        "        X, y = np.array(X), np.array(y)\n",
        "        y = np.reshape(y, (y.shape[0], y.shape[1]*y.shape[2]))\n",
        "\n",
        "        return X, y\n",
        "\n",
        "    def on_epoch_end(self):\n",
        "        self.indexes = np.arange(self.X.shape[0]-self.n_steps_in)\n",
        "        if self.shuffle == True:\n",
        "            np.random.shuffle(self.indexes)"
      ],
      "metadata": {
        "id": "9KGRdLgkzLVG"
      },
      "execution_count": null,
      "outputs": []
    },
    {
      "cell_type": "code",
      "source": [
        "train_generator = DataGeneratorTimeSeries(X_train, y_train, n_steps_in=10, batch_size=64, shuffle=True)\n",
        "val_generator = DataGeneratorTimeSeries(X_val, y_val, n_steps_in=10, batch_size=64, shuffle=False)\n",
        "\n",
        "len(train_generator), len(val_generator)"
      ],
      "metadata": {
        "id": "gsSe98MuzL8s",
        "colab": {
          "base_uri": "https://localhost:8080/"
        },
        "outputId": "3c39de0e-ca53-4eef-aec7-5fde83958ccd"
      },
      "execution_count": null,
      "outputs": [
        {
          "output_type": "execute_result",
          "data": {
            "text/plain": [
              "(6042, 756)"
            ]
          },
          "metadata": {},
          "execution_count": 11
        }
      ]
    },
    {
      "cell_type": "code",
      "source": [
        "X, y = val_generator.__getitem__(0)\n",
        "# print(np.all(X[0] == X_val[0:10]), np.all(y[0] == y_val[9]))\n",
        "print(X.shape, y.shape)\n",
        "\n",
        "X, y = train_generator.__getitem__(0)\n",
        "# print(np.all(X[0] == X_train[0:10]), np.all(y[0] == y_train[9]))\n",
        "print(X.shape, y.shape)"
      ],
      "metadata": {
        "id": "YYXHANhJzONs",
        "colab": {
          "base_uri": "https://localhost:8080/"
        },
        "outputId": "390b00ed-889f-4779-f6f5-2d492638bfa7"
      },
      "execution_count": null,
      "outputs": [
        {
          "output_type": "stream",
          "name": "stdout",
          "text": [
            "(64, 10, 32) (64, 9)\n",
            "(64, 10, 32) (64, 9)\n"
          ]
        }
      ]
    },
    {
      "cell_type": "code",
      "source": [
        "def train_evaluate(ga_individual_solution):\n",
        "    # Decode GA solution to integer for window_size and num_units\n",
        "    print(ga_individual_solution)\n",
        "    window_size_bits = BitArray(ga_individual_solution[0:6])\n",
        "    num_units_bits = BitArray(ga_individual_solution[6:14])\n",
        "    num_epochs = BitArray(ga_individual_solution[14:])\n",
        "    window_size = window_size_bits.uint\n",
        "    num_units = num_units_bits.uint\n",
        "    num_epochs = num_epochs.uint\n",
        "    print('Window Size:', window_size, '| Num of Units:', num_units, '| Epochs:', num_epochs)\n",
        "\n",
        "    # Return fitness score of 100 if window_size or num_unit is zero\n",
        "    if window_size == 0 or num_units == 0:\n",
        "        return 100,\n",
        "\n",
        "    # Segment the data based on new window_size\n",
        "    train_generator = DataGeneratorTimeSeries(X_train, y_train, n_steps_in=window_size, batch_size=64, shuffle=True)\n",
        "    val_generator = DataGeneratorTimeSeries(X_val, y_val, n_steps_in=window_size, batch_size=64, shuffle=False)\n",
        "    test_generator = DataGeneratorTimeSeries(X_test, y_test, n_steps_in=window_size, batch_size=64, shuffle=False)\n",
        "\n",
        "    # Train LSTM model and predict on validation set\n",
        "    model = Sequential()\n",
        "    model.add(LSTM(num_units, activation='tanh', return_sequences=True, input_shape=(window_size, 32)))\n",
        "    model.add(LSTM(num_units, activation='tanh'))\n",
        "    model.add(Dense(num_labels, activation='softmax'))\n",
        "    # model.add(Activation('softmax'))\n",
        "    model.compile(loss=\"categorical_crossentropy\",\n",
        "                optimizer=\"adam\", \n",
        "                metrics=[tf.keras.metrics.CategoricalAccuracy()])\n",
        "    history = model.fit(train_generator, \n",
        "                        validation_data=val_generator, \n",
        "                        epochs=num_epochs, \n",
        "                        verbose=1)\n",
        "\n",
        "    scores = model.evaluate(test_generator)\n",
        "    return scores[0],"
      ],
      "metadata": {
        "id": "cdxjSCSb4TFx"
      },
      "execution_count": null,
      "outputs": []
    },
    {
      "cell_type": "code",
      "source": [
        "!pip install deap\n",
        "!pip install bitstring\n",
        "from deap import base, creator, tools, algorithms\n",
        "from scipy.stats import bernoulli\n",
        "from bitstring import BitArray\n",
        "population_size = 4\n",
        "num_generations = 4\n",
        "gene_length = 19\n",
        "\n",
        "# As we are trying to minimize the RMSE score, that's why using -1.0.\n",
        "# In case, when you want to maximize accuracy for instance, use 1.0\n",
        "creator.create('FitnessMax', base.Fitness, weights=(-1.0,))\n",
        "creator.create('Individual', list, fitness=creator.FitnessMax)\n",
        "\n",
        "toolbox = base.Toolbox()\n",
        "toolbox.register('binary', bernoulli.rvs, 0.5)\n",
        "toolbox.register('individual', tools.initRepeat, creator.Individual, toolbox.binary, n=gene_length)\n",
        "toolbox.register('population', tools.initRepeat, list, toolbox.individual)\n",
        "\n",
        "bit = toolbox.binary()\n",
        "ind = toolbox.individual()\n",
        "pop = toolbox.population(n=3)\n",
        "\n",
        "print(\"bit is of type %s and has value\\n%s\" % (type(bit), bit))\n",
        "print(\"ind is of type %s and contains %d bits\\n%s\" % (type(ind), len(ind), ind))\n",
        "print(\"pop is of type %s and contains %d individuals\\n%s\" % (type(pop), len(pop), pop))\n",
        "\n",
        "toolbox.register('mate', tools.cxOrdered)\n",
        "toolbox.register('mutate', tools.mutShuffleIndexes, indpb=0.6)\n",
        "toolbox.register('select', tools.selRoulette)\n",
        "toolbox.register('evaluate', train_evaluate)\n",
        "\n",
        "population = toolbox.population(n=population_size)\n",
        "hof = tools.HallOfFame(1)\n",
        "r = algorithms.eaSimple(population, toolbox, cxpb=0.4, mutpb=0.1, ngen=num_generations, halloffame=hof, verbose=True)"
      ],
      "metadata": {
        "id": "7zqmwG_U6puk",
        "colab": {
          "base_uri": "https://localhost:8080/"
        },
        "outputId": "65bbd178-18dd-4243-ebd4-c14a3ca275c2"
      },
      "execution_count": null,
      "outputs": [
        {
          "output_type": "stream",
          "name": "stdout",
          "text": [
            "Looking in indexes: https://pypi.org/simple, https://us-python.pkg.dev/colab-wheels/public/simple/\n",
            "Collecting deap\n",
            "  Downloading deap-1.3.3-cp37-cp37m-manylinux_2_5_x86_64.manylinux1_x86_64.manylinux_2_17_x86_64.manylinux2014_x86_64.whl (139 kB)\n",
            "\u001b[K     |████████████████████████████████| 139 kB 33.3 MB/s \n",
            "\u001b[?25hRequirement already satisfied: numpy in /usr/local/lib/python3.7/dist-packages (from deap) (1.21.6)\n",
            "Installing collected packages: deap\n",
            "Successfully installed deap-1.3.3\n",
            "Looking in indexes: https://pypi.org/simple, https://us-python.pkg.dev/colab-wheels/public/simple/\n",
            "Collecting bitstring\n",
            "  Downloading bitstring-3.1.9-py3-none-any.whl (38 kB)\n",
            "Installing collected packages: bitstring\n",
            "Successfully installed bitstring-3.1.9\n",
            "bit is of type <class 'int'> and has value\n",
            "1\n",
            "ind is of type <class 'deap.creator.Individual'> and contains 19 bits\n",
            "[0, 1, 1, 0, 0, 1, 0, 1, 1, 0, 0, 0, 1, 0, 0, 0, 1, 0, 0]\n",
            "pop is of type <class 'list'> and contains 3 individuals\n",
            "[[0, 0, 1, 1, 1, 1, 1, 0, 0, 0, 1, 0, 1, 1, 0, 0, 1, 1, 0], [1, 1, 0, 1, 1, 0, 0, 1, 1, 1, 1, 0, 0, 0, 0, 0, 1, 1, 1], [0, 1, 1, 0, 0, 1, 0, 1, 1, 0, 0, 1, 0, 0, 1, 1, 1, 1, 0]]\n",
            "[0, 0, 0, 0, 1, 1, 1, 1, 0, 1, 0, 0, 0, 1, 1, 1, 0, 0, 1]\n",
            "Window Size: 3 | Num of Units: 209 | Epochs: 25\n",
            "Epoch 1/25\n",
            "6042/6042 [==============================] - 47s 6ms/step - loss: 1.5710 - categorical_accuracy: 0.4245 - val_loss: 1.2567 - val_categorical_accuracy: 0.5482\n",
            "Epoch 2/25\n",
            "6042/6042 [==============================] - 37s 6ms/step - loss: 1.0564 - categorical_accuracy: 0.6255 - val_loss: 0.8982 - val_categorical_accuracy: 0.6855\n",
            "Epoch 3/25\n",
            "6042/6042 [==============================] - 37s 6ms/step - loss: 0.7999 - categorical_accuracy: 0.7203 - val_loss: 0.7448 - val_categorical_accuracy: 0.7406\n",
            "Epoch 4/25\n",
            "6042/6042 [==============================] - 36s 6ms/step - loss: 0.6515 - categorical_accuracy: 0.7751 - val_loss: 0.6448 - val_categorical_accuracy: 0.7758\n",
            "Epoch 5/25\n",
            "6042/6042 [==============================] - 37s 6ms/step - loss: 0.5548 - categorical_accuracy: 0.8092 - val_loss: 0.5908 - val_categorical_accuracy: 0.7962\n",
            "Epoch 6/25\n",
            "6042/6042 [==============================] - 36s 6ms/step - loss: 0.4921 - categorical_accuracy: 0.8306 - val_loss: 0.5479 - val_categorical_accuracy: 0.8100\n",
            "Epoch 7/25\n",
            "6042/6042 [==============================] - 36s 6ms/step - loss: 0.4463 - categorical_accuracy: 0.8463 - val_loss: 0.4907 - val_categorical_accuracy: 0.8314\n",
            "Epoch 8/25\n",
            "6042/6042 [==============================] - 37s 6ms/step - loss: 0.4091 - categorical_accuracy: 0.8586 - val_loss: 0.4836 - val_categorical_accuracy: 0.8351\n",
            "Epoch 9/25\n",
            "6042/6042 [==============================] - 37s 6ms/step - loss: 0.3810 - categorical_accuracy: 0.8693 - val_loss: 0.4564 - val_categorical_accuracy: 0.8430\n",
            "Epoch 10/25\n",
            "6042/6042 [==============================] - 36s 6ms/step - loss: 0.3556 - categorical_accuracy: 0.8773 - val_loss: 0.4389 - val_categorical_accuracy: 0.8496\n",
            "Epoch 11/25\n",
            "6042/6042 [==============================] - 37s 6ms/step - loss: 0.3421 - categorical_accuracy: 0.8821 - val_loss: 0.4118 - val_categorical_accuracy: 0.8589\n",
            "Epoch 12/25\n",
            "6042/6042 [==============================] - 37s 6ms/step - loss: 0.3145 - categorical_accuracy: 0.8920 - val_loss: 0.4169 - val_categorical_accuracy: 0.8577\n",
            "Epoch 13/25\n",
            "6042/6042 [==============================] - 37s 6ms/step - loss: 0.3082 - categorical_accuracy: 0.8933 - val_loss: 0.3984 - val_categorical_accuracy: 0.8646\n",
            "Epoch 14/25\n",
            "6042/6042 [==============================] - 38s 6ms/step - loss: 0.2992 - categorical_accuracy: 0.8973 - val_loss: 0.3889 - val_categorical_accuracy: 0.8662\n",
            "Epoch 15/25\n",
            "6042/6042 [==============================] - 37s 6ms/step - loss: 0.2893 - categorical_accuracy: 0.8999 - val_loss: 0.3899 - val_categorical_accuracy: 0.8681\n",
            "Epoch 16/25\n",
            "6042/6042 [==============================] - 37s 6ms/step - loss: 0.2759 - categorical_accuracy: 0.9044 - val_loss: 0.3803 - val_categorical_accuracy: 0.8712\n",
            "Epoch 17/25\n",
            "6042/6042 [==============================] - 38s 6ms/step - loss: 0.2731 - categorical_accuracy: 0.9052 - val_loss: 0.3825 - val_categorical_accuracy: 0.8706\n",
            "Epoch 18/25\n",
            "6042/6042 [==============================] - 37s 6ms/step - loss: 0.2593 - categorical_accuracy: 0.9104 - val_loss: 0.3691 - val_categorical_accuracy: 0.8757\n",
            "Epoch 19/25\n",
            "6042/6042 [==============================] - 37s 6ms/step - loss: 0.2613 - categorical_accuracy: 0.9095 - val_loss: 0.3751 - val_categorical_accuracy: 0.8740\n",
            "Epoch 20/25\n",
            "6042/6042 [==============================] - 37s 6ms/step - loss: 0.2452 - categorical_accuracy: 0.9153 - val_loss: 0.3678 - val_categorical_accuracy: 0.8770\n",
            "Epoch 21/25\n",
            "6042/6042 [==============================] - 37s 6ms/step - loss: 0.2428 - categorical_accuracy: 0.9160 - val_loss: 0.3678 - val_categorical_accuracy: 0.8769\n",
            "Epoch 22/25\n",
            "6042/6042 [==============================] - 38s 6ms/step - loss: 0.2429 - categorical_accuracy: 0.9160 - val_loss: 0.3560 - val_categorical_accuracy: 0.8816\n",
            "Epoch 23/25\n",
            "6042/6042 [==============================] - 37s 6ms/step - loss: 0.2379 - categorical_accuracy: 0.9180 - val_loss: 0.3295 - val_categorical_accuracy: 0.8917\n",
            "Epoch 24/25\n",
            "6042/6042 [==============================] - 38s 6ms/step - loss: 0.2248 - categorical_accuracy: 0.9225 - val_loss: 0.3342 - val_categorical_accuracy: 0.8880\n",
            "Epoch 25/25\n",
            "6042/6042 [==============================] - 39s 6ms/step - loss: 0.2233 - categorical_accuracy: 0.9224 - val_loss: 0.3487 - val_categorical_accuracy: 0.8848\n",
            "756/756 [==============================] - 3s 4ms/step - loss: 0.3434 - categorical_accuracy: 0.8856\n",
            "[0, 1, 1, 0, 1, 0, 1, 0, 0, 1, 0, 1, 1, 0, 0, 0, 1, 1, 0]\n",
            "Window Size: 26 | Num of Units: 150 | Epochs: 6\n",
            "Epoch 1/6\n",
            "6042/6042 [==============================] - 56s 9ms/step - loss: 1.6477 - categorical_accuracy: 0.3917 - val_loss: 1.3535 - val_categorical_accuracy: 0.5097\n",
            "Epoch 2/6\n",
            "6042/6042 [==============================] - 52s 9ms/step - loss: 1.1781 - categorical_accuracy: 0.5792 - val_loss: 1.0575 - val_categorical_accuracy: 0.6259\n",
            "Epoch 3/6\n",
            "6042/6042 [==============================] - 52s 9ms/step - loss: 0.9301 - categorical_accuracy: 0.6742 - val_loss: 0.8726 - val_categorical_accuracy: 0.6946\n",
            "Epoch 4/6\n",
            "6042/6042 [==============================] - 53s 9ms/step - loss: 0.7866 - categorical_accuracy: 0.7260 - val_loss: 0.7701 - val_categorical_accuracy: 0.7320\n",
            "Epoch 5/6\n",
            "6042/6042 [==============================] - 51s 8ms/step - loss: 0.6879 - categorical_accuracy: 0.7615 - val_loss: 0.6998 - val_categorical_accuracy: 0.7582\n",
            "Epoch 6/6\n",
            "6042/6042 [==============================] - 52s 9ms/step - loss: 0.6227 - categorical_accuracy: 0.7844 - val_loss: 0.6466 - val_categorical_accuracy: 0.7772\n",
            "755/755 [==============================] - 4s 5ms/step - loss: 0.6571 - categorical_accuracy: 0.7739\n",
            "[1, 1, 0, 0, 1, 0, 1, 0, 1, 0, 1, 0, 0, 0, 0, 1, 0, 1, 1]\n",
            "Window Size: 50 | Num of Units: 168 | Epochs: 11\n",
            "Epoch 1/11\n",
            "6042/6042 [==============================] - 69s 11ms/step - loss: 1.6403 - categorical_accuracy: 0.3946 - val_loss: 1.3190 - val_categorical_accuracy: 0.5250\n",
            "Epoch 2/11\n",
            "6042/6042 [==============================] - 65s 11ms/step - loss: 1.1472 - categorical_accuracy: 0.5908 - val_loss: 1.0114 - val_categorical_accuracy: 0.6439\n",
            "Epoch 3/11\n",
            "6042/6042 [==============================] - 65s 11ms/step - loss: 0.8955 - categorical_accuracy: 0.6864 - val_loss: 0.8409 - val_categorical_accuracy: 0.7052\n",
            "Epoch 4/11\n",
            "6042/6042 [==============================] - 66s 11ms/step - loss: 0.7404 - categorical_accuracy: 0.7436 - val_loss: 0.7311 - val_categorical_accuracy: 0.7444\n",
            "Epoch 5/11\n",
            "6042/6042 [==============================] - 65s 11ms/step - loss: 0.6492 - categorical_accuracy: 0.7756 - val_loss: 0.6647 - val_categorical_accuracy: 0.7703\n",
            "Epoch 6/11\n",
            "6042/6042 [==============================] - 65s 11ms/step - loss: 0.5869 - categorical_accuracy: 0.7976 - val_loss: 0.6247 - val_categorical_accuracy: 0.7841\n",
            "Epoch 7/11\n",
            "6042/6042 [==============================] - 65s 11ms/step - loss: 0.5340 - categorical_accuracy: 0.8157 - val_loss: 0.5952 - val_categorical_accuracy: 0.7935\n",
            "Epoch 8/11\n",
            "6042/6042 [==============================] - 66s 11ms/step - loss: 0.4974 - categorical_accuracy: 0.8286 - val_loss: 0.5694 - val_categorical_accuracy: 0.8029\n",
            "Epoch 9/11\n",
            "6042/6042 [==============================] - 67s 11ms/step - loss: 0.4648 - categorical_accuracy: 0.8399 - val_loss: 0.5298 - val_categorical_accuracy: 0.8165\n",
            "Epoch 10/11\n",
            "6042/6042 [==============================] - 65s 11ms/step - loss: 0.4392 - categorical_accuracy: 0.8483 - val_loss: 0.5139 - val_categorical_accuracy: 0.8230\n",
            "Epoch 11/11\n",
            "6042/6042 [==============================] - 65s 11ms/step - loss: 0.4203 - categorical_accuracy: 0.8551 - val_loss: 0.5273 - val_categorical_accuracy: 0.8194\n",
            "755/755 [==============================] - 4s 6ms/step - loss: 0.5250 - categorical_accuracy: 0.8201\n",
            "[1, 0, 1, 1, 0, 0, 0, 1, 0, 0, 0, 0, 0, 0, 0, 0, 0, 0, 1]\n",
            "Window Size: 44 | Num of Units: 64 | Epochs: 1\n",
            "6042/6042 [==============================] - 55s 9ms/step - loss: 1.8443 - categorical_accuracy: 0.3096 - val_loss: 1.6578 - val_categorical_accuracy: 0.3870\n",
            "755/755 [==============================] - 4s 5ms/step - loss: 1.6675 - categorical_accuracy: 0.3879\n",
            "gen\tnevals\n",
            "0  \t4     \n",
            "[1, 1, 0, 0, 1, 0, 1, 0, 1, 0, 1, 0, 0, 0, 0, 1, 0, 1, 1]\n",
            "Window Size: 50 | Num of Units: 168 | Epochs: 11\n",
            "Epoch 1/11\n",
            "6042/6042 [==============================] - 69s 11ms/step - loss: 1.6302 - categorical_accuracy: 0.3987 - val_loss: 1.3224 - val_categorical_accuracy: 0.5246\n",
            "Epoch 2/11\n",
            "6042/6042 [==============================] - 65s 11ms/step - loss: 1.1469 - categorical_accuracy: 0.5912 - val_loss: 1.0059 - val_categorical_accuracy: 0.6432\n",
            "Epoch 3/11\n",
            "6042/6042 [==============================] - 65s 11ms/step - loss: 0.9020 - categorical_accuracy: 0.6832 - val_loss: 0.8399 - val_categorical_accuracy: 0.7060\n",
            "Epoch 4/11\n",
            "6042/6042 [==============================] - 66s 11ms/step - loss: 0.7511 - categorical_accuracy: 0.7394 - val_loss: 0.7297 - val_categorical_accuracy: 0.7465\n",
            "Epoch 5/11\n",
            "6042/6042 [==============================] - 68s 11ms/step - loss: 0.6512 - categorical_accuracy: 0.7740 - val_loss: 0.6640 - val_categorical_accuracy: 0.7705\n",
            "Epoch 6/11\n",
            "6042/6042 [==============================] - 68s 11ms/step - loss: 0.5839 - categorical_accuracy: 0.7989 - val_loss: 0.6038 - val_categorical_accuracy: 0.7924\n",
            "Epoch 7/11\n",
            "6042/6042 [==============================] - 68s 11ms/step - loss: 0.5349 - categorical_accuracy: 0.8160 - val_loss: 0.5518 - val_categorical_accuracy: 0.8117\n",
            "Epoch 8/11\n",
            "6042/6042 [==============================] - 67s 11ms/step - loss: 0.4880 - categorical_accuracy: 0.8307 - val_loss: 0.5431 - val_categorical_accuracy: 0.8144\n",
            "Epoch 9/11\n",
            "6042/6042 [==============================] - 68s 11ms/step - loss: 0.4565 - categorical_accuracy: 0.8421 - val_loss: 0.5329 - val_categorical_accuracy: 0.8173\n",
            "Epoch 10/11\n",
            "6042/6042 [==============================] - 69s 11ms/step - loss: 0.4298 - categorical_accuracy: 0.8517 - val_loss: 0.5256 - val_categorical_accuracy: 0.8192\n",
            "Epoch 11/11\n",
            "6042/6042 [==============================] - 68s 11ms/step - loss: 0.4148 - categorical_accuracy: 0.8567 - val_loss: 0.4934 - val_categorical_accuracy: 0.8313\n",
            "755/755 [==============================] - 5s 6ms/step - loss: 0.5027 - categorical_accuracy: 0.8280\n",
            "[1, 1, 1, 1, 1, 1, 1, 1, 0, 1, 0, 0, 0, 1, 1, 1, 0, 1, 1]\n",
            "Window Size: 63 | Num of Units: 209 | Epochs: 27\n",
            "Epoch 1/27\n",
            "6042/6042 [==============================] - 84s 13ms/step - loss: 1.5781 - categorical_accuracy: 0.4202 - val_loss: 1.2357 - val_categorical_accuracy: 0.5553\n",
            "Epoch 2/27\n",
            "6042/6042 [==============================] - 81s 13ms/step - loss: 1.0409 - categorical_accuracy: 0.6300 - val_loss: 0.8892 - val_categorical_accuracy: 0.6883\n",
            "Epoch 3/27\n",
            "6042/6042 [==============================] - 83s 14ms/step - loss: 0.7759 - categorical_accuracy: 0.7296 - val_loss: 0.7117 - val_categorical_accuracy: 0.7521\n",
            "Epoch 4/27\n",
            "6042/6042 [==============================] - 83s 14ms/step - loss: 0.6267 - categorical_accuracy: 0.7830 - val_loss: 0.6233 - val_categorical_accuracy: 0.7836\n",
            "Epoch 5/27\n",
            "6042/6042 [==============================] - 82s 14ms/step - loss: 0.5324 - categorical_accuracy: 0.8160 - val_loss: 0.5618 - val_categorical_accuracy: 0.8067\n",
            "Epoch 6/27\n",
            "6042/6042 [==============================] - 83s 14ms/step - loss: 0.4737 - categorical_accuracy: 0.8366 - val_loss: 0.5310 - val_categorical_accuracy: 0.8161\n",
            "Epoch 7/27\n",
            "6042/6042 [==============================] - 83s 14ms/step - loss: 0.4305 - categorical_accuracy: 0.8517 - val_loss: 0.4734 - val_categorical_accuracy: 0.8374\n",
            "Epoch 8/27\n",
            "6042/6042 [==============================] - 83s 14ms/step - loss: 0.3940 - categorical_accuracy: 0.8641 - val_loss: 0.4623 - val_categorical_accuracy: 0.8423\n",
            "Epoch 9/27\n",
            "6042/6042 [==============================] - 82s 14ms/step - loss: 0.3726 - categorical_accuracy: 0.8716 - val_loss: 0.4474 - val_categorical_accuracy: 0.8456\n",
            "Epoch 10/27\n",
            "6042/6042 [==============================] - 83s 14ms/step - loss: 0.3464 - categorical_accuracy: 0.8812 - val_loss: 0.4470 - val_categorical_accuracy: 0.8461\n",
            "Epoch 11/27\n",
            "6042/6042 [==============================] - 83s 14ms/step - loss: 0.3249 - categorical_accuracy: 0.8879 - val_loss: 0.4371 - val_categorical_accuracy: 0.8506\n",
            "Epoch 12/27\n",
            "6042/6042 [==============================] - 82s 14ms/step - loss: 0.3142 - categorical_accuracy: 0.8912 - val_loss: 0.4166 - val_categorical_accuracy: 0.8582\n",
            "Epoch 13/27\n",
            "6042/6042 [==============================] - 82s 14ms/step - loss: 0.3061 - categorical_accuracy: 0.8941 - val_loss: 0.4146 - val_categorical_accuracy: 0.8592\n",
            "Epoch 14/27\n",
            "6042/6042 [==============================] - 84s 14ms/step - loss: 0.2908 - categorical_accuracy: 0.8996 - val_loss: 0.4103 - val_categorical_accuracy: 0.8589\n",
            "Epoch 15/27\n",
            "6042/6042 [==============================] - 82s 14ms/step - loss: 0.2843 - categorical_accuracy: 0.9015 - val_loss: 0.4165 - val_categorical_accuracy: 0.8603\n",
            "Epoch 16/27\n",
            "6042/6042 [==============================] - 83s 14ms/step - loss: 0.2776 - categorical_accuracy: 0.9037 - val_loss: 0.3878 - val_categorical_accuracy: 0.8689\n",
            "Epoch 17/27\n",
            "6042/6042 [==============================] - 82s 14ms/step - loss: 0.2665 - categorical_accuracy: 0.9076 - val_loss: 0.3927 - val_categorical_accuracy: 0.8691\n",
            "Epoch 18/27\n",
            "6042/6042 [==============================] - 85s 14ms/step - loss: 0.2622 - categorical_accuracy: 0.9088 - val_loss: 0.4043 - val_categorical_accuracy: 0.8652\n",
            "Epoch 19/27\n",
            "6042/6042 [==============================] - 84s 14ms/step - loss: 0.2574 - categorical_accuracy: 0.9104 - val_loss: 0.3760 - val_categorical_accuracy: 0.8723\n",
            "Epoch 20/27\n",
            "6042/6042 [==============================] - 83s 14ms/step - loss: 0.2499 - categorical_accuracy: 0.9131 - val_loss: 0.3795 - val_categorical_accuracy: 0.8722\n",
            "Epoch 21/27\n",
            "6042/6042 [==============================] - 83s 14ms/step - loss: 0.2436 - categorical_accuracy: 0.9155 - val_loss: 0.3832 - val_categorical_accuracy: 0.8718\n",
            "Epoch 22/27\n",
            "6042/6042 [==============================] - 85s 14ms/step - loss: 0.2410 - categorical_accuracy: 0.9162 - val_loss: 0.3899 - val_categorical_accuracy: 0.8684\n",
            "Epoch 23/27\n",
            "6042/6042 [==============================] - 85s 14ms/step - loss: 0.2316 - categorical_accuracy: 0.9192 - val_loss: 0.3780 - val_categorical_accuracy: 0.8746\n",
            "Epoch 24/27\n",
            "6042/6042 [==============================] - 85s 14ms/step - loss: 0.2312 - categorical_accuracy: 0.9201 - val_loss: 0.3530 - val_categorical_accuracy: 0.8819\n",
            "Epoch 25/27\n",
            "6042/6042 [==============================] - 86s 14ms/step - loss: 0.2268 - categorical_accuracy: 0.9210 - val_loss: 0.3883 - val_categorical_accuracy: 0.8725\n",
            "Epoch 26/27\n",
            "6042/6042 [==============================] - 84s 14ms/step - loss: 0.2226 - categorical_accuracy: 0.9227 - val_loss: 0.3656 - val_categorical_accuracy: 0.8782\n",
            "Epoch 27/27\n",
            "6042/6042 [==============================] - 85s 14ms/step - loss: 0.2241 - categorical_accuracy: 0.9223 - val_loss: 0.3724 - val_categorical_accuracy: 0.8772\n",
            "755/755 [==============================] - 5s 7ms/step - loss: 0.3704 - categorical_accuracy: 0.8776\n",
            "[1, 1, 0, 0, 1, 0, 0, 1, 0, 0, 0, 0, 0, 0, 0, 1, 0, 1, 1]\n",
            "Window Size: 50 | Num of Units: 64 | Epochs: 11\n",
            "Epoch 1/11\n",
            "6042/6042 [==============================] - 62s 10ms/step - loss: 1.8500 - categorical_accuracy: 0.3057 - val_loss: 1.6746 - val_categorical_accuracy: 0.3844\n",
            "Epoch 2/11\n",
            "6042/6042 [==============================] - 59s 10ms/step - loss: 1.5693 - categorical_accuracy: 0.4272 - val_loss: 1.4770 - val_categorical_accuracy: 0.4632\n",
            "Epoch 3/11\n",
            "6042/6042 [==============================] - 59s 10ms/step - loss: 1.4153 - categorical_accuracy: 0.4895 - val_loss: 1.3657 - val_categorical_accuracy: 0.5085\n",
            "Epoch 4/11\n",
            "6042/6042 [==============================] - 59s 10ms/step - loss: 1.3108 - categorical_accuracy: 0.5309 - val_loss: 1.3000 - val_categorical_accuracy: 0.5356\n",
            "Epoch 5/11\n",
            "6042/6042 [==============================] - 59s 10ms/step - loss: 1.2296 - categorical_accuracy: 0.5631 - val_loss: 1.2196 - val_categorical_accuracy: 0.5668\n",
            "Epoch 6/11\n",
            "6042/6042 [==============================] - 59s 10ms/step - loss: 1.1696 - categorical_accuracy: 0.5871 - val_loss: 1.1513 - val_categorical_accuracy: 0.5914\n",
            "Epoch 7/11\n",
            "6042/6042 [==============================] - 59s 10ms/step - loss: 1.1264 - categorical_accuracy: 0.6028 - val_loss: 1.1146 - val_categorical_accuracy: 0.6069\n",
            "Epoch 8/11\n",
            "6042/6042 [==============================] - 59s 10ms/step - loss: 1.0862 - categorical_accuracy: 0.6175 - val_loss: 1.1029 - val_categorical_accuracy: 0.6120\n",
            "Epoch 9/11\n",
            "6042/6042 [==============================] - 59s 10ms/step - loss: 1.0583 - categorical_accuracy: 0.6284 - val_loss: 1.0774 - val_categorical_accuracy: 0.6209\n",
            "Epoch 10/11\n",
            "6042/6042 [==============================] - 58s 10ms/step - loss: 1.0401 - categorical_accuracy: 0.6352 - val_loss: 1.0407 - val_categorical_accuracy: 0.6343\n",
            "Epoch 11/11\n",
            "6042/6042 [==============================] - 58s 10ms/step - loss: 1.0133 - categorical_accuracy: 0.6452 - val_loss: 1.0395 - val_categorical_accuracy: 0.6369\n",
            "755/755 [==============================] - 4s 6ms/step - loss: 1.0472 - categorical_accuracy: 0.6348\n",
            "[1, 0, 1, 1, 0, 0, 1, 0, 1, 0, 1, 0, 0, 0, 0, 0, 0, 0, 1]\n",
            "Window Size: 44 | Num of Units: 168 | Epochs: 1\n",
            "6042/6042 [==============================] - 71s 11ms/step - loss: 1.6365 - categorical_accuracy: 0.3965 - val_loss: 1.3291 - val_categorical_accuracy: 0.5194\n",
            "755/755 [==============================] - 5s 6ms/step - loss: 1.3351 - categorical_accuracy: 0.5188\n",
            "1  \t4     \n",
            "[1, 1, 0, 1, 0, 0, 1, 0, 1, 0, 1, 0, 0, 0, 0, 1, 0, 1, 1]\n",
            "Window Size: 52 | Num of Units: 168 | Epochs: 11\n",
            "Epoch 1/11\n",
            "6042/6042 [==============================] - 76s 12ms/step - loss: 1.6310 - categorical_accuracy: 0.3987 - val_loss: 1.3371 - val_categorical_accuracy: 0.5187\n",
            "Epoch 2/11\n",
            "6042/6042 [==============================] - 73s 12ms/step - loss: 1.1337 - categorical_accuracy: 0.5961 - val_loss: 0.9961 - val_categorical_accuracy: 0.6490\n",
            "Epoch 3/11\n",
            "6042/6042 [==============================] - 72s 12ms/step - loss: 0.8802 - categorical_accuracy: 0.6916 - val_loss: 0.8341 - val_categorical_accuracy: 0.7093\n",
            "Epoch 4/11\n",
            "6042/6042 [==============================] - 73s 12ms/step - loss: 0.7292 - categorical_accuracy: 0.7469 - val_loss: 0.7004 - val_categorical_accuracy: 0.7558\n",
            "Epoch 5/11\n",
            "6042/6042 [==============================] - 73s 12ms/step - loss: 0.6284 - categorical_accuracy: 0.7832 - val_loss: 0.6432 - val_categorical_accuracy: 0.7757\n",
            "Epoch 6/11\n",
            "6042/6042 [==============================] - 72s 12ms/step - loss: 0.5665 - categorical_accuracy: 0.8040 - val_loss: 0.5985 - val_categorical_accuracy: 0.7949\n",
            "Epoch 7/11\n",
            "6042/6042 [==============================] - 74s 12ms/step - loss: 0.5138 - categorical_accuracy: 0.8227 - val_loss: 0.5543 - val_categorical_accuracy: 0.8086\n",
            "Epoch 8/11\n",
            "6042/6042 [==============================] - 73s 12ms/step - loss: 0.4775 - categorical_accuracy: 0.8352 - val_loss: 0.5349 - val_categorical_accuracy: 0.8151\n",
            "Epoch 9/11\n",
            "6042/6042 [==============================] - 72s 12ms/step - loss: 0.4536 - categorical_accuracy: 0.8430 - val_loss: 0.5199 - val_categorical_accuracy: 0.8211\n",
            "Epoch 10/11\n",
            "6042/6042 [==============================] - 71s 12ms/step - loss: 0.4238 - categorical_accuracy: 0.8539 - val_loss: 0.5132 - val_categorical_accuracy: 0.8248\n",
            "Epoch 11/11\n",
            "6042/6042 [==============================] - 71s 12ms/step - loss: 0.4078 - categorical_accuracy: 0.8590 - val_loss: 0.4931 - val_categorical_accuracy: 0.8296\n",
            "755/755 [==============================] - 5s 6ms/step - loss: 0.4979 - categorical_accuracy: 0.8285\n",
            "[1, 0, 1, 0, 1, 0, 0, 1, 0, 0, 0, 0, 0, 0, 0, 0, 0, 0, 1]\n",
            "Window Size: 42 | Num of Units: 64 | Epochs: 1\n",
            "6042/6042 [==============================] - 57s 9ms/step - loss: 1.8414 - categorical_accuracy: 0.3106 - val_loss: 1.6651 - val_categorical_accuracy: 0.3823\n",
            "755/755 [==============================] - 4s 6ms/step - loss: 1.6751 - categorical_accuracy: 0.3849\n",
            "[1, 1, 1, 1, 1, 1, 1, 0, 1, 0, 1, 0, 0, 0, 0, 1, 0, 1, 1]\n",
            "Window Size: 63 | Num of Units: 168 | Epochs: 11\n",
            "Epoch 1/11\n",
            "6042/6042 [==============================] - 85s 14ms/step - loss: 1.6268 - categorical_accuracy: 0.3993 - val_loss: 1.3387 - val_categorical_accuracy: 0.5148\n",
            "Epoch 2/11\n",
            "6042/6042 [==============================] - 85s 14ms/step - loss: 1.1439 - categorical_accuracy: 0.5933 - val_loss: 1.0107 - val_categorical_accuracy: 0.6430\n",
            "Epoch 3/11\n",
            "6042/6042 [==============================] - 80s 13ms/step - loss: 0.8888 - categorical_accuracy: 0.6890 - val_loss: 0.8375 - val_categorical_accuracy: 0.7094\n",
            "Epoch 4/11\n",
            "6042/6042 [==============================] - 78s 13ms/step - loss: 0.7300 - categorical_accuracy: 0.7464 - val_loss: 0.7150 - val_categorical_accuracy: 0.7520\n",
            "Epoch 5/11\n",
            "6042/6042 [==============================] - 77s 13ms/step - loss: 0.6283 - categorical_accuracy: 0.7826 - val_loss: 0.6500 - val_categorical_accuracy: 0.7754\n",
            "Epoch 6/11\n",
            "6042/6042 [==============================] - 78s 13ms/step - loss: 0.5677 - categorical_accuracy: 0.8038 - val_loss: 0.6198 - val_categorical_accuracy: 0.7872\n",
            "Epoch 7/11\n",
            "6042/6042 [==============================] - 78s 13ms/step - loss: 0.5189 - categorical_accuracy: 0.8209 - val_loss: 0.5771 - val_categorical_accuracy: 0.8010\n",
            "Epoch 8/11\n",
            "6042/6042 [==============================] - 80s 13ms/step - loss: 0.4789 - categorical_accuracy: 0.8346 - val_loss: 0.5621 - val_categorical_accuracy: 0.8060\n",
            "Epoch 9/11\n",
            "6042/6042 [==============================] - 79s 13ms/step - loss: 0.4502 - categorical_accuracy: 0.8448 - val_loss: 0.5242 - val_categorical_accuracy: 0.8211\n",
            "Epoch 10/11\n",
            "6042/6042 [==============================] - 79s 13ms/step - loss: 0.4252 - categorical_accuracy: 0.8533 - val_loss: 0.5260 - val_categorical_accuracy: 0.8193\n",
            "Epoch 11/11\n",
            "6042/6042 [==============================] - 78s 13ms/step - loss: 0.4044 - categorical_accuracy: 0.8601 - val_loss: 0.5005 - val_categorical_accuracy: 0.8292\n",
            "755/755 [==============================] - 5s 7ms/step - loss: 0.5157 - categorical_accuracy: 0.8241\n",
            "[1, 1, 1, 1, 1, 1, 1, 1, 0, 1, 0, 0, 0, 1, 1, 1, 0, 1, 1]\n",
            "Window Size: 63 | Num of Units: 209 | Epochs: 27\n",
            "Epoch 1/27\n",
            "6042/6042 [==============================] - 89s 14ms/step - loss: 1.5781 - categorical_accuracy: 0.4186 - val_loss: 1.2320 - val_categorical_accuracy: 0.5593\n",
            "Epoch 2/27\n",
            "6042/6042 [==============================] - 85s 14ms/step - loss: 1.0404 - categorical_accuracy: 0.6300 - val_loss: 0.8908 - val_categorical_accuracy: 0.6866\n",
            "Epoch 3/27\n",
            "6042/6042 [==============================] - 84s 14ms/step - loss: 0.7741 - categorical_accuracy: 0.7302 - val_loss: 0.7292 - val_categorical_accuracy: 0.7455\n",
            "Epoch 4/27\n",
            "6042/6042 [==============================] - 84s 14ms/step - loss: 0.6275 - categorical_accuracy: 0.7826 - val_loss: 0.6546 - val_categorical_accuracy: 0.7726\n",
            "Epoch 5/27\n",
            "6042/6042 [==============================] - 85s 14ms/step - loss: 0.5384 - categorical_accuracy: 0.8137 - val_loss: 0.5748 - val_categorical_accuracy: 0.8007\n",
            "Epoch 6/27\n",
            "6042/6042 [==============================] - 84s 14ms/step - loss: 0.4753 - categorical_accuracy: 0.8360 - val_loss: 0.5276 - val_categorical_accuracy: 0.8163\n",
            "Epoch 7/27\n",
            "6042/6042 [==============================] - 84s 14ms/step - loss: 0.4250 - categorical_accuracy: 0.8533 - val_loss: 0.4873 - val_categorical_accuracy: 0.8304\n",
            "Epoch 8/27\n",
            "6042/6042 [==============================] - 84s 14ms/step - loss: 0.3943 - categorical_accuracy: 0.8642 - val_loss: 0.4819 - val_categorical_accuracy: 0.8345\n",
            "Epoch 9/27\n",
            "6042/6042 [==============================] - 85s 14ms/step - loss: 0.3688 - categorical_accuracy: 0.8726 - val_loss: 0.4540 - val_categorical_accuracy: 0.8453\n",
            "Epoch 10/27\n",
            "6042/6042 [==============================] - 84s 14ms/step - loss: 0.3440 - categorical_accuracy: 0.8808 - val_loss: 0.4323 - val_categorical_accuracy: 0.8514\n",
            "Epoch 11/27\n",
            "6042/6042 [==============================] - 84s 14ms/step - loss: 0.3295 - categorical_accuracy: 0.8858 - val_loss: 0.4224 - val_categorical_accuracy: 0.8552\n",
            "Epoch 12/27\n",
            "6042/6042 [==============================] - 84s 14ms/step - loss: 0.3101 - categorical_accuracy: 0.8928 - val_loss: 0.4174 - val_categorical_accuracy: 0.8576\n",
            "Epoch 13/27\n",
            "6042/6042 [==============================] - 85s 14ms/step - loss: 0.3041 - categorical_accuracy: 0.8950 - val_loss: 0.4109 - val_categorical_accuracy: 0.8616\n",
            "Epoch 14/27\n",
            "6042/6042 [==============================] - 84s 14ms/step - loss: 0.2899 - categorical_accuracy: 0.8992 - val_loss: 0.4089 - val_categorical_accuracy: 0.8607\n",
            "Epoch 15/27\n",
            "6042/6042 [==============================] - 84s 14ms/step - loss: 0.2769 - categorical_accuracy: 0.9042 - val_loss: 0.3966 - val_categorical_accuracy: 0.8664\n",
            "Epoch 16/27\n",
            "6042/6042 [==============================] - 84s 14ms/step - loss: 0.2748 - categorical_accuracy: 0.9049 - val_loss: 0.3856 - val_categorical_accuracy: 0.8680\n",
            "Epoch 17/27\n",
            "6042/6042 [==============================] - 85s 14ms/step - loss: 0.2662 - categorical_accuracy: 0.9076 - val_loss: 0.4035 - val_categorical_accuracy: 0.8634\n",
            "Epoch 18/27\n",
            "6042/6042 [==============================] - 85s 14ms/step - loss: 0.2603 - categorical_accuracy: 0.9101 - val_loss: 0.3878 - val_categorical_accuracy: 0.8688\n",
            "Epoch 19/27\n",
            "6042/6042 [==============================] - 85s 14ms/step - loss: 0.2512 - categorical_accuracy: 0.9132 - val_loss: 0.3872 - val_categorical_accuracy: 0.8705\n",
            "Epoch 20/27\n",
            "6042/6042 [==============================] - 86s 14ms/step - loss: 0.2452 - categorical_accuracy: 0.9152 - val_loss: 0.3875 - val_categorical_accuracy: 0.8716\n",
            "Epoch 21/27\n",
            "6042/6042 [==============================] - 86s 14ms/step - loss: 0.2423 - categorical_accuracy: 0.9158 - val_loss: 0.3881 - val_categorical_accuracy: 0.8697\n",
            "Epoch 22/27\n",
            "6042/6042 [==============================] - 87s 14ms/step - loss: 0.2366 - categorical_accuracy: 0.9178 - val_loss: 0.3928 - val_categorical_accuracy: 0.8690\n",
            "Epoch 23/27\n",
            "6042/6042 [==============================] - 86s 14ms/step - loss: 0.2346 - categorical_accuracy: 0.9186 - val_loss: 0.3775 - val_categorical_accuracy: 0.8725\n",
            "Epoch 24/27\n",
            "6042/6042 [==============================] - 86s 14ms/step - loss: 0.2285 - categorical_accuracy: 0.9205 - val_loss: 0.3938 - val_categorical_accuracy: 0.8681\n",
            "Epoch 25/27\n",
            "6042/6042 [==============================] - 86s 14ms/step - loss: 0.2208 - categorical_accuracy: 0.9236 - val_loss: 0.3587 - val_categorical_accuracy: 0.8817\n",
            "Epoch 26/27\n",
            "6042/6042 [==============================] - 87s 14ms/step - loss: 0.2224 - categorical_accuracy: 0.9230 - val_loss: 0.3716 - val_categorical_accuracy: 0.8759\n",
            "Epoch 27/27\n",
            "6042/6042 [==============================] - 86s 14ms/step - loss: 0.2159 - categorical_accuracy: 0.9252 - val_loss: 0.3819 - val_categorical_accuracy: 0.8733\n",
            "755/755 [==============================] - 6s 7ms/step - loss: 0.3884 - categorical_accuracy: 0.8731\n",
            "2  \t4     \n",
            "[1, 1, 0, 1, 0, 0, 1, 0, 1, 0, 1, 0, 0, 0, 0, 1, 0, 1, 1]\n",
            "Window Size: 52 | Num of Units: 168 | Epochs: 11\n",
            "Epoch 1/11\n",
            "6042/6042 [==============================] - 76s 12ms/step - loss: 1.6373 - categorical_accuracy: 0.3947 - val_loss: 1.3393 - val_categorical_accuracy: 0.5136\n",
            "Epoch 2/11\n",
            "6042/6042 [==============================] - 73s 12ms/step - loss: 1.1438 - categorical_accuracy: 0.5915 - val_loss: 1.0152 - val_categorical_accuracy: 0.6386\n",
            "Epoch 3/11\n",
            "6042/6042 [==============================] - 72s 12ms/step - loss: 0.8948 - categorical_accuracy: 0.6845 - val_loss: 0.8644 - val_categorical_accuracy: 0.6972\n",
            "Epoch 4/11\n",
            "6042/6042 [==============================] - 74s 12ms/step - loss: 0.7525 - categorical_accuracy: 0.7374 - val_loss: 0.7498 - val_categorical_accuracy: 0.7386\n",
            "Epoch 5/11\n",
            "6042/6042 [==============================] - 73s 12ms/step - loss: 0.6561 - categorical_accuracy: 0.7721 - val_loss: 0.6890 - val_categorical_accuracy: 0.7602\n",
            "Epoch 6/11\n",
            "6042/6042 [==============================] - 73s 12ms/step - loss: 0.5901 - categorical_accuracy: 0.7951 - val_loss: 0.6437 - val_categorical_accuracy: 0.7782\n",
            "Epoch 7/11\n",
            "6042/6042 [==============================] - 73s 12ms/step - loss: 0.5388 - categorical_accuracy: 0.8134 - val_loss: 0.5980 - val_categorical_accuracy: 0.7911\n",
            "Epoch 8/11\n",
            "6042/6042 [==============================] - 73s 12ms/step - loss: 0.4992 - categorical_accuracy: 0.8273 - val_loss: 0.5759 - val_categorical_accuracy: 0.8008\n",
            "Epoch 9/11\n",
            "6042/6042 [==============================] - 73s 12ms/step - loss: 0.4693 - categorical_accuracy: 0.8385 - val_loss: 0.5293 - val_categorical_accuracy: 0.8166\n",
            "Epoch 10/11\n",
            "6042/6042 [==============================] - 74s 12ms/step - loss: 0.4470 - categorical_accuracy: 0.8460 - val_loss: 0.5181 - val_categorical_accuracy: 0.8236\n",
            "Epoch 11/11\n",
            "6042/6042 [==============================] - 75s 12ms/step - loss: 0.4251 - categorical_accuracy: 0.8532 - val_loss: 0.5165 - val_categorical_accuracy: 0.8229\n",
            "755/755 [==============================] - 5s 6ms/step - loss: 0.5223 - categorical_accuracy: 0.8232\n",
            "[1, 1, 0, 1, 0, 0, 1, 0, 1, 0, 1, 0, 0, 0, 0, 1, 0, 1, 1]\n",
            "Window Size: 52 | Num of Units: 168 | Epochs: 11\n",
            "Epoch 1/11\n",
            "6042/6042 [==============================] - 80s 13ms/step - loss: 1.6225 - categorical_accuracy: 0.4027 - val_loss: 1.3067 - val_categorical_accuracy: 0.5270\n",
            "Epoch 2/11\n",
            "6042/6042 [==============================] - 73s 12ms/step - loss: 1.1303 - categorical_accuracy: 0.5962 - val_loss: 0.9828 - val_categorical_accuracy: 0.6536\n",
            "Epoch 3/11\n",
            "6042/6042 [==============================] - 73s 12ms/step - loss: 0.8739 - categorical_accuracy: 0.6932 - val_loss: 0.8128 - val_categorical_accuracy: 0.7152\n",
            "Epoch 4/11\n",
            "6042/6042 [==============================] - 74s 12ms/step - loss: 0.7321 - categorical_accuracy: 0.7455 - val_loss: 0.7198 - val_categorical_accuracy: 0.7508\n",
            "Epoch 5/11\n",
            "6042/6042 [==============================] - 72s 12ms/step - loss: 0.6325 - categorical_accuracy: 0.7816 - val_loss: 0.6529 - val_categorical_accuracy: 0.7737\n",
            "Epoch 6/11\n",
            "6042/6042 [==============================] - 73s 12ms/step - loss: 0.5687 - categorical_accuracy: 0.8039 - val_loss: 0.5866 - val_categorical_accuracy: 0.7963\n",
            "Epoch 7/11\n",
            "6042/6042 [==============================] - 73s 12ms/step - loss: 0.5173 - categorical_accuracy: 0.8211 - val_loss: 0.5548 - val_categorical_accuracy: 0.8084\n",
            "Epoch 8/11\n",
            "6042/6042 [==============================] - 74s 12ms/step - loss: 0.4837 - categorical_accuracy: 0.8331 - val_loss: 0.5358 - val_categorical_accuracy: 0.8151\n",
            "Epoch 9/11\n",
            "6042/6042 [==============================] - 75s 12ms/step - loss: 0.4526 - categorical_accuracy: 0.8438 - val_loss: 0.5221 - val_categorical_accuracy: 0.8200\n",
            "Epoch 10/11\n",
            "6042/6042 [==============================] - 73s 12ms/step - loss: 0.4378 - categorical_accuracy: 0.8486 - val_loss: 0.5409 - val_categorical_accuracy: 0.8163\n",
            "Epoch 11/11\n",
            "6042/6042 [==============================] - 73s 12ms/step - loss: 0.4129 - categorical_accuracy: 0.8574 - val_loss: 0.5106 - val_categorical_accuracy: 0.8246\n",
            "755/755 [==============================] - 5s 7ms/step - loss: 0.5105 - categorical_accuracy: 0.8269\n",
            "3  \t2     \n",
            "[1, 1, 1, 1, 1, 1, 1, 0, 1, 0, 1, 0, 0, 1, 1, 1, 0, 1, 1]\n",
            "Window Size: 63 | Num of Units: 169 | Epochs: 27\n",
            "Epoch 1/27\n",
            "6042/6042 [==============================] - 89s 14ms/step - loss: 1.6083 - categorical_accuracy: 0.4081 - val_loss: 1.2791 - val_categorical_accuracy: 0.5380\n",
            "Epoch 2/27\n",
            "6042/6042 [==============================] - 84s 14ms/step - loss: 1.1005 - categorical_accuracy: 0.6097 - val_loss: 0.9598 - val_categorical_accuracy: 0.6621\n",
            "Epoch 3/27\n",
            "6042/6042 [==============================] - 84s 14ms/step - loss: 0.8558 - categorical_accuracy: 0.7014 - val_loss: 0.7996 - val_categorical_accuracy: 0.7211\n",
            "Epoch 4/27\n",
            "6042/6042 [==============================] - 82s 14ms/step - loss: 0.7109 - categorical_accuracy: 0.7534 - val_loss: 0.7081 - val_categorical_accuracy: 0.7521\n",
            "Epoch 5/27\n",
            "6042/6042 [==============================] - 82s 14ms/step - loss: 0.6213 - categorical_accuracy: 0.7847 - val_loss: 0.6484 - val_categorical_accuracy: 0.7760\n",
            "Epoch 6/27\n",
            "6042/6042 [==============================] - 82s 14ms/step - loss: 0.5543 - categorical_accuracy: 0.8083 - val_loss: 0.5994 - val_categorical_accuracy: 0.7939\n",
            "Epoch 7/27\n",
            "6042/6042 [==============================] - 80s 13ms/step - loss: 0.5053 - categorical_accuracy: 0.8260 - val_loss: 0.5584 - val_categorical_accuracy: 0.8099\n",
            "Epoch 8/27\n",
            "6042/6042 [==============================] - 81s 13ms/step - loss: 0.4714 - categorical_accuracy: 0.8380 - val_loss: 0.5239 - val_categorical_accuracy: 0.8189\n",
            "Epoch 9/27\n",
            "6042/6042 [==============================] - 82s 14ms/step - loss: 0.4444 - categorical_accuracy: 0.8467 - val_loss: 0.5274 - val_categorical_accuracy: 0.8179\n",
            "Epoch 10/27\n",
            "6042/6042 [==============================] - 81s 13ms/step - loss: 0.4189 - categorical_accuracy: 0.8553 - val_loss: 0.4921 - val_categorical_accuracy: 0.8294\n",
            "Epoch 11/27\n",
            "5147/6042 [========================>.....] - ETA: 11s - loss: 0.4014 - categorical_accuracy: 0.8611"
          ]
        }
      ]
    },
    {
      "cell_type": "code",
      "source": [
        "# Print top N solutions - (1st only, for now)\n",
        "best_individuals = tools.selBest(population, k=1)\n",
        "best_window_size = None\n",
        "best_num_units = None\n",
        "best_num_epochs = None\n",
        "\n",
        "for bi in best_individuals:\n",
        "    window_size_bits = BitArray(bi[0:6])\n",
        "    num_units_bits = BitArray(bi[6:14])\n",
        "    num_epochs = BitArray(bi[14:])\n",
        "    best_window_size = window_size_bits.uint\n",
        "    best_num_units = num_units_bits.uint\n",
        "    best_num_epochs = num_epochs.uint\n",
        "    print('Window Size:', best_window_size)\n",
        "    print('Num of Units:', best_num_units)\n",
        "    print('Epochs:', best_num_epochs)"
      ],
      "metadata": {
        "id": "Yap4oDDX7DwA"
      },
      "execution_count": null,
      "outputs": []
    },
    {
      "cell_type": "code",
      "source": [
        "best_window_size = 20\n",
        "best_num_units = 200\n",
        "best_num_epochs = 25 "
      ],
      "metadata": {
        "id": "F4HW1sSfTTL-"
      },
      "execution_count": null,
      "outputs": []
    },
    {
      "cell_type": "code",
      "source": [
        "train_generator = DataGeneratorTimeSeries(X_train, y_train, n_steps_in=best_window_size, batch_size=64, shuffle=True)\n",
        "val_generator = DataGeneratorTimeSeries(X_val, y_val, n_steps_in=best_window_size, batch_size=64, shuffle=False)\n",
        "test_generator = DataGeneratorTimeSeries(X_test, y_test, n_steps_in=best_window_size, batch_size=64, shuffle=False)\n",
        "\n",
        "# Train LSTM model and predict on validation set\n",
        "model = Sequential()\n",
        "model.add(LSTM(best_num_units, activation='tanh', return_sequences=True, input_shape=(best_window_size, 32)))\n",
        "model.add(LSTM(best_num_units, activation='tanh'))\n",
        "model.add(Dense(num_labels, activation='softmax'))\n",
        "model.compile(loss=\"categorical_crossentropy\",\n",
        "              optimizer=\"adam\", \n",
        "              metrics=[tf.keras.metrics.CategoricalAccuracy()])\n",
        "history = model.fit(train_generator, \n",
        "                    validation_data=val_generator, \n",
        "                    epochs=best_num_epochs, \n",
        "                    verbose=1)\n",
        "\n",
        "scores = model.evaluate_generator(test_generator)\n",
        "scores"
      ],
      "metadata": {
        "id": "ay32u5ig7Iz7",
        "colab": {
          "base_uri": "https://localhost:8080/"
        },
        "outputId": "846c422e-75bc-416c-f477-7cbf7ba17d6e"
      },
      "execution_count": null,
      "outputs": [
        {
          "output_type": "stream",
          "name": "stdout",
          "text": [
            "Epoch 1/25\n",
            "6042/6042 [==============================] - 53s 8ms/step - loss: 1.5798 - categorical_accuracy: 0.4183 - val_loss: 1.2655 - val_categorical_accuracy: 0.5456\n",
            "Epoch 2/25\n",
            "6042/6042 [==============================] - 50s 8ms/step - loss: 1.0448 - categorical_accuracy: 0.6289 - val_loss: 0.9088 - val_categorical_accuracy: 0.6806\n",
            "Epoch 3/25\n",
            "6042/6042 [==============================] - 51s 8ms/step - loss: 0.7867 - categorical_accuracy: 0.7254 - val_loss: 0.7342 - val_categorical_accuracy: 0.7440\n",
            "Epoch 4/25\n",
            "6042/6042 [==============================] - 51s 8ms/step - loss: 0.6396 - categorical_accuracy: 0.7782 - val_loss: 0.6487 - val_categorical_accuracy: 0.7759\n",
            "Epoch 5/25\n",
            "6042/6042 [==============================] - 50s 8ms/step - loss: 0.5524 - categorical_accuracy: 0.8096 - val_loss: 0.5854 - val_categorical_accuracy: 0.7969\n",
            "Epoch 6/25\n",
            "6042/6042 [==============================] - 50s 8ms/step - loss: 0.4908 - categorical_accuracy: 0.8310 - val_loss: 0.5349 - val_categorical_accuracy: 0.8157\n",
            "Epoch 7/25\n",
            "6042/6042 [==============================] - 49s 8ms/step - loss: 0.4440 - categorical_accuracy: 0.8466 - val_loss: 0.5072 - val_categorical_accuracy: 0.8250\n",
            "Epoch 8/25\n",
            "6042/6042 [==============================] - 48s 8ms/step - loss: 0.4137 - categorical_accuracy: 0.8573 - val_loss: 0.4967 - val_categorical_accuracy: 0.8293\n",
            "Epoch 9/25\n",
            "6042/6042 [==============================] - 50s 8ms/step - loss: 0.3854 - categorical_accuracy: 0.8672 - val_loss: 0.4745 - val_categorical_accuracy: 0.8376\n",
            "Epoch 10/25\n",
            "6042/6042 [==============================] - 50s 8ms/step - loss: 0.3638 - categorical_accuracy: 0.8747 - val_loss: 0.4546 - val_categorical_accuracy: 0.8438\n",
            "Epoch 11/25\n",
            "6042/6042 [==============================] - 49s 8ms/step - loss: 0.3449 - categorical_accuracy: 0.8813 - val_loss: 0.4557 - val_categorical_accuracy: 0.8445\n",
            "Epoch 12/25\n",
            "6042/6042 [==============================] - 50s 8ms/step - loss: 0.3298 - categorical_accuracy: 0.8857 - val_loss: 0.4437 - val_categorical_accuracy: 0.8496\n",
            "Epoch 13/25\n",
            "6042/6042 [==============================] - 49s 8ms/step - loss: 0.3189 - categorical_accuracy: 0.8897 - val_loss: 0.4332 - val_categorical_accuracy: 0.8530\n",
            "Epoch 14/25\n",
            "6042/6042 [==============================] - 48s 8ms/step - loss: 0.3076 - categorical_accuracy: 0.8937 - val_loss: 0.4227 - val_categorical_accuracy: 0.8555\n",
            "Epoch 15/25\n",
            "6042/6042 [==============================] - 50s 8ms/step - loss: 0.2962 - categorical_accuracy: 0.8967 - val_loss: 0.4096 - val_categorical_accuracy: 0.8630\n",
            "Epoch 16/25\n",
            "6042/6042 [==============================] - 49s 8ms/step - loss: 0.2960 - categorical_accuracy: 0.8973 - val_loss: 0.4305 - val_categorical_accuracy: 0.8549\n",
            "Epoch 17/25\n",
            "6042/6042 [==============================] - 48s 8ms/step - loss: 0.2810 - categorical_accuracy: 0.9030 - val_loss: 0.4154 - val_categorical_accuracy: 0.8598\n",
            "Epoch 18/25\n",
            "6042/6042 [==============================] - 49s 8ms/step - loss: 0.2765 - categorical_accuracy: 0.9039 - val_loss: 0.4172 - val_categorical_accuracy: 0.8603\n",
            "Epoch 19/25\n",
            "6042/6042 [==============================] - 49s 8ms/step - loss: 0.2679 - categorical_accuracy: 0.9075 - val_loss: 0.3903 - val_categorical_accuracy: 0.8693\n",
            "Epoch 20/25\n",
            "6042/6042 [==============================] - 48s 8ms/step - loss: 0.2617 - categorical_accuracy: 0.9093 - val_loss: 0.4079 - val_categorical_accuracy: 0.8650\n",
            "Epoch 21/25\n",
            "6042/6042 [==============================] - 48s 8ms/step - loss: 0.2556 - categorical_accuracy: 0.9107 - val_loss: 0.3796 - val_categorical_accuracy: 0.8741\n",
            "Epoch 22/25\n",
            "6042/6042 [==============================] - 48s 8ms/step - loss: 0.2476 - categorical_accuracy: 0.9136 - val_loss: 0.3946 - val_categorical_accuracy: 0.8675\n",
            "Epoch 23/25\n",
            "6042/6042 [==============================] - 48s 8ms/step - loss: 0.2466 - categorical_accuracy: 0.9144 - val_loss: 0.4110 - val_categorical_accuracy: 0.8649\n",
            "Epoch 24/25\n",
            "6042/6042 [==============================] - 48s 8ms/step - loss: 0.2459 - categorical_accuracy: 0.9147 - val_loss: 0.3758 - val_categorical_accuracy: 0.8755\n",
            "Epoch 25/25\n",
            "6042/6042 [==============================] - 48s 8ms/step - loss: 0.2354 - categorical_accuracy: 0.9184 - val_loss: 0.3708 - val_categorical_accuracy: 0.8770\n"
          ]
        },
        {
          "output_type": "stream",
          "name": "stderr",
          "text": [
            "/usr/local/lib/python3.7/dist-packages/ipykernel_launcher.py:18: UserWarning: `Model.evaluate_generator` is deprecated and will be removed in a future version. Please use `Model.evaluate`, which supports generators.\n"
          ]
        },
        {
          "output_type": "execute_result",
          "data": {
            "text/plain": [
              "[0.3681558072566986, 0.8773930668830872]"
            ]
          },
          "metadata": {},
          "execution_count": 23
        }
      ]
    },
    {
      "cell_type": "code",
      "source": [
        "timestep = best_window_size\n",
        "# model.save(f'/content/drive/MyDrive/models/Capstone/eeg_model_4_{timestep}.h5')\n",
        "model = tf.keras.models.load_model('/content/drive/MyDrive/models/Capstone/eeg_model_4_20.h5')"
      ],
      "metadata": {
        "id": "V-1MyONAaVdH"
      },
      "execution_count": null,
      "outputs": []
    },
    {
      "cell_type": "code",
      "source": [
        "from sklearn.metrics import confusion_matrix\n",
        "import matplotlib.pyplot as plt\n",
        "import seaborn as sns\n",
        "\n",
        "y_test_class, y_pred_class = [], []\n",
        "for X_, y_ in test_generator:\n",
        "    y_pred = model.predict(X_, verbose=0)\n",
        "    y_ = np.argmax(y_, axis=1)\n",
        "    y_pred = np.argmax(y_pred, axis=1)\n",
        "    y_test_class.extend(y_)\n",
        "    y_pred_class.extend(y_pred)\n",
        "\n",
        "fig, ax = plt.subplots(figsize=(15,10))\n",
        "cf_matrix = confusion_matrix(y_test_class, y_pred_class)\n",
        "sns.heatmap(cf_matrix, annot=True, fmt=\"d\")"
      ],
      "metadata": {
        "colab": {
          "base_uri": "https://localhost:8080/",
          "height": 610
        },
        "id": "Qxx4HEPKTVG2",
        "outputId": "32f5eb2a-cde9-4da8-af8c-7c2186309169"
      },
      "execution_count": null,
      "outputs": [
        {
          "output_type": "execute_result",
          "data": {
            "text/plain": [
              "<matplotlib.axes._subplots.AxesSubplot at 0x7fb58e540490>"
            ]
          },
          "metadata": {},
          "execution_count": 29
        },
        {
          "output_type": "display_data",
          "data": {
            "text/plain": [
              "<Figure size 1080x720 with 2 Axes>"
            ],
            "image/png": "[encoded data removed]"
          },
          "metadata": {
            "needs_background": "light"
          }
        }
      ]
    },
    {
      "cell_type": "code",
      "source": [
        "fig.savefig(f'/content/drive/MyDrive/models/Capstone/confusion_matrix_{timestep}.eps', format='eps', dpi=600, bbox_inches='tight')\n",
        "fig.savefig(f'/content/drive/MyDrive/models/Capstone/confusion_matrix_{timestep}.png', format='png', dpi=600, bbox_inches='tight')"
      ],
      "metadata": {
        "id": "xC528cNBqny5"
      },
      "execution_count": null,
      "outputs": []
    },
    {
      "cell_type": "code",
      "source": [
        "from sklearn.metrics import classification_report\n",
        "\n",
        "print(classification_report(y_test_class, y_pred_class))"
      ],
      "metadata": {
        "colab": {
          "base_uri": "https://localhost:8080/"
        },
        "id": "mor9AK0Xixue",
        "outputId": "664abcb8-b6f5-47c5-ec63-8060007bddfb"
      },
      "execution_count": null,
      "outputs": [
        {
          "output_type": "stream",
          "name": "stdout",
          "text": [
            "              precision    recall  f1-score   support\n",
            "\n",
            "           0       0.95      0.94      0.94      3529\n",
            "           1       0.87      0.88      0.87      6972\n",
            "           2       0.88      0.88      0.88      5350\n",
            "           3       0.87      0.88      0.88      7222\n",
            "           4       0.89      0.89      0.89      6763\n",
            "           5       0.87      0.86      0.86      5262\n",
            "           6       0.86      0.88      0.87      4869\n",
            "           7       0.89      0.84      0.86      4217\n",
            "           8       0.85      0.84      0.85      4133\n",
            "\n",
            "    accuracy                           0.88     48317\n",
            "   macro avg       0.88      0.88      0.88     48317\n",
            "weighted avg       0.88      0.88      0.88     48317\n",
            "\n"
          ]
        }
      ]
    },
    {
      "cell_type": "code",
      "source": [],
      "metadata": {
        "id": "Cgwi4CBO93Zf"
      },
      "execution_count": null,
      "outputs": []
    },
    {
      "cell_type": "markdown",
      "source": [
        "# Graphs"
      ],
      "metadata": {
        "id": "8_vgcQDK0QdE"
      }
    },
    {
      "cell_type": "code",
      "source": [
        "import matplotlib.pyplot as plt\n",
        "\n",
        "labels = ['elbow_up', 'grip', 'elbow_down', 'release', 'wrist_supination', 'wrist_pronation', 'shoulder_right', 'shoulder_left', 'rest']\n",
        "values = [71793, 69273, 68395, 53905, 52563, 48767, 42850, 41300, 34517]\n",
        "\n",
        "fig = plt.figure(figsize = (15, 5))\n",
        "\n",
        "plt.bar(labels, values, color='blue', width=0.4)\n",
        "\n",
        "plt.xlabel(\"Movement Labels\")\n",
        "plt.ylabel(\"Data Points\")\n",
        "plt.title(\"Entries in Dataset per Label\")\n",
        "plt.show()"
      ],
      "metadata": {
        "colab": {
          "base_uri": "https://localhost:8080/",
          "height": 351
        },
        "id": "DkYXeirl0QBo",
        "outputId": "01067444-d9ed-4e4f-9237-912303f7cfc7"
      },
      "execution_count": null,
      "outputs": [
        {
          "output_type": "display_data",
          "data": {
            "text/plain": [
              "<Figure size 1080x360 with 1 Axes>"
            ],
            "image/png": "[encoded data removed]"
          },
          "metadata": {
            "needs_background": "light"
          }
        }
      ]
    }
  ]
}
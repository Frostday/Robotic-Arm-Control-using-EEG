{
  "nbformat": 4,
  "nbformat_minor": 0,
  "metadata": {
    "colab": {
      "provenance": [],
      "collapsed_sections": [
        "Y-OaZ_wkRcIR",
        "x-ASzZ_6Rd2y",
        "gskaTOcjHgIl",
        "36JLwJd9zGcN",
        "ev0kaALLjFWb",
        "8_vgcQDK0QdE"
      ]
    },
    "kernelspec": {
      "name": "python3",
      "display_name": "Python 3"
    },
    "language_info": {
      "name": "python"
    },
    "accelerator": "GPU",
    "gpuClass": "standard"
  },
  "cells": [
    {
      "cell_type": "markdown",
      "source": [
        "# Setup"
      ],
      "metadata": {
        "id": "Y-OaZ_wkRcIR"
      }
    },
    {
      "cell_type": "code",
      "execution_count": null,
      "metadata": {
        "id": "Q84BD2jwRCJ-"
      },
      "outputs": [],
      "source": [
        "!rm -r sample_data "
      ]
    },
    {
      "cell_type": "code",
      "source": [
        "from google.colab import drive\n",
        "\n",
        "drive.mount('/content/drive')"
      ],
      "metadata": {
        "id": "ieXI2g5A87Tr",
        "colab": {
          "base_uri": "https://localhost:8080/"
        },
        "outputId": "232c2e2a-eec7-4ec7-9db6-9fa4b0d7e047"
      },
      "execution_count": null,
      "outputs": [
        {
          "output_type": "stream",
          "name": "stdout",
          "text": [
            "Mounted at /content/drive\n"
          ]
        }
      ]
    },
    {
      "cell_type": "markdown",
      "source": [
        "# Data"
      ],
      "metadata": {
        "id": "x-ASzZ_6Rd2y"
      }
    },
    {
      "cell_type": "markdown",
      "source": [
        "## Labelling"
      ],
      "metadata": {
        "id": "gskaTOcjHgIl"
      }
    },
    {
      "cell_type": "code",
      "source": [
        "import os\n",
        "\n",
        "PATH = \"/content/drive/MyDrive/Data/Capstone RealTime Data/Day_4/\"\n",
        "files = os.listdir(PATH)\n",
        "files = [f.strip('.json') for f in files]\n",
        "files = [f.strip('.csv') for f in files]\n",
        "files = list(set(files))\n",
        "\n",
        "remove_list = []\n",
        "for f in files:\n",
        "    if f.endswith(\"_final\")==1:\n",
        "        # print(f)\n",
        "        remove_list.append(f)\n",
        "        remove_list.append(f.strip('_final'))\n",
        "for x in remove_list:\n",
        "    files.remove(x)\n",
        "files "
      ],
      "metadata": {
        "colab": {
          "base_uri": "https://localhost:8080/"
        },
        "id": "VHbNSTUnARcs",
        "outputId": "e717e6ae-8d3b-4ab7-f8fe-48f45a5ec620"
      },
      "execution_count": null,
      "outputs": [
        {
          "output_type": "execute_result",
          "data": {
            "text/plain": [
              "[]"
            ]
          },
          "metadata": {},
          "execution_count": 6
        }
      ]
    },
    {
      "cell_type": "code",
      "source": [
        "import pandas as pd\n",
        "import json\n",
        "import dateutil.parser as dp\n",
        "\n",
        "labels_to_index = {'rest':0, \n",
        "                   'grab':1, \n",
        "                   'release':2,\n",
        "                   'elbow_up':3, \n",
        "                   'elbow_down':4, \n",
        "                   'wrist_supination':5,\n",
        "                   'wrist_pronation':6,\n",
        "                   'shoulder_right':7,\n",
        "                   'shoulder_left':8,\n",
        "                   'None':-1}\n",
        "\n",
        "def labelsToIndex(label):\n",
        "    return labels_to_index[label]\n",
        "\n",
        "def returnLabel(timestamp):\n",
        "    with open(json_file_path, 'r') as j:\n",
        "        i=0\n",
        "        data = json.loads(j.read())\n",
        "        while i<len(data['Markers'])-2:\n",
        "           startDT = dp.parse(data['Markers'][i]['startDatetime']).timestamp()\n",
        "           endDT = dp.parse(data['Markers'][i+1]['startDatetime']).timestamp()\n",
        "           if startDT <= timestamp <= endDT:\n",
        "               return data['Markers'][i]['label']\n",
        "           i=i+1\n",
        "    return \"None\"\n",
        "\n",
        "dfs = []\n",
        "for f in files:\n",
        "    print(f)\n",
        "    json_file_path = PATH + f + '.json'\n",
        "    csv_file_path = PATH + f + '.csv'\n",
        "\n",
        "    df = pd.read_csv(csv_file_path, skiprows=1)\n",
        "\n",
        "    df['Movement Label Name'] = df.apply(lambda row: returnLabel(row['Timestamp']), axis=1)\n",
        "    df['Movement Label Index'] = df.apply(lambda row: labelsToIndex(row['Movement Label Name']), axis=1)\n",
        "    df.to_csv(PATH + f + '_final.csv')"
      ],
      "metadata": {
        "id": "NJi7u9q2RtR9"
      },
      "execution_count": null,
      "outputs": []
    },
    {
      "cell_type": "markdown",
      "source": [
        "## Making Sequences"
      ],
      "metadata": {
        "id": "ze-f7mYTHqdC"
      }
    },
    {
      "cell_type": "code",
      "source": [
        "import os\n",
        "\n",
        "PATH = \"/content/drive/MyDrive/Data/Capstone RealTime Data/\"\n",
        "files = [\"Day_2/\"+f for f in os.listdir(PATH+\"Day_2/\")]\n",
        "files.extend([\"Day_3/\"+f for f in os.listdir(PATH+\"Day_3/\")])\n",
        "files.extend([\"Day_4/\"+f for f in os.listdir(PATH+\"Day_4/\")])\n",
        "files = [f for f in files if f.endswith('_final.csv')]\n",
        "files = list(set(files))\n",
        "files "
      ],
      "metadata": {
        "colab": {
          "base_uri": "https://localhost:8080/"
        },
        "id": "AS9PUP7MHwSi",
        "outputId": "48fba5c9-bd1f-4d7c-b5d6-37285ea3c190"
      },
      "execution_count": null,
      "outputs": [
        {
          "output_type": "execute_result",
          "data": {
            "text/plain": [
              "['Day_2/Subject_1_EPOCFLEX_164574_2022.10.19T13.54.57+05.30_final.csv',\n",
              " 'Day_2/Subject_1_EPOCFLEX_164574_2022.10.19T14.49.09+05.30_final.csv',\n",
              " 'Day_3/Subject_1_EPOCFLEX_164574_2022.11.11T11.48.19+05.30_final.csv',\n",
              " 'Day_3/Subject_1_EPOCFLEX_164574_2022.11.11T11.17.39+05.30_final.csv',\n",
              " 'Day_3/Subject_1_EPOCFLEX_164574_2022.11.11T11.14.33+05.30_final.csv',\n",
              " 'Day_4/Subject_1_EPOCFLEX_164574_2022.11.15T16.00.28+05.30_final.csv',\n",
              " 'Day_4/Subject_1_EPOCFLEX_164574_2022.11.15T15.14.02+05.30_final.csv',\n",
              " 'Day_2/Subject_1_EPOCFLEX_164574_2022.10.19T14.10.41+05.30_final.csv',\n",
              " 'Day_3/Subject_1_EPOCFLEX_164574_2022.11.11T12.43.58+05.30_final.csv',\n",
              " 'Day_3/Subject_1_EPOCFLEX_164574_2022.11.11T12.10.23+05.30_final.csv',\n",
              " 'Day_4/Subject_1_EPOCFLEX_164574_2022.11.15T16.14.40+05.30_final.csv',\n",
              " 'Day_3/Subject_1_EPOCFLEX_164574_2022.11.11T11.45.38+05.30_final.csv',\n",
              " 'Day_3/Subject_1_EPOCFLEX_164574_2022.11.11T12.02.06+05.30_final.csv',\n",
              " 'Day_4/Subject_1_EPOCFLEX_164574_2022.11.15T15.42.39+05.30_final.csv',\n",
              " 'Day_3/Subject_1_EPOCFLEX_164574_2022.11.11T12.34.55+05.30_final.csv',\n",
              " 'Day_2/Subject_1_EPOCFLEX_164574_2022.10.19T14.20.58+05.30_final.csv',\n",
              " 'Day_4/Subject_1_EPOCFLEX_164574_2022.11.15T15.25.54+05.30_final.csv',\n",
              " 'Day_4/Subject_1_EPOCFLEX_164574_2022.11.15T15.33.58+05.30_final.csv',\n",
              " 'Day_2/Subject_1_EPOCFLEX_164574_2022.10.19T14.48.23+05.30_final.csv',\n",
              " 'Day_2/Subject_1_EPOCFLEX_164574_2022.10.19T14.40.44+05.30_final.csv',\n",
              " 'Day_2/Subject_1_EPOCFLEX_164574_2022.10.19T13.59.14+05.30_final.csv',\n",
              " 'Day_3/Subject_1_EPOCFLEX_164574_2022.11.11T11.59.23+05.30_final.csv',\n",
              " 'Day_4/Subject_1_EPOCFLEX_164574_2022.11.15T15.56.32+05.30_final.csv',\n",
              " 'Day_2/Subject_1_EPOCFLEX_164574_2022.10.19T14.46.24+05.30_final.csv',\n",
              " 'Day_2/Subject_1_EPOCFLEX_164574_2022.10.19T14.15.49+05.30_final.csv',\n",
              " 'Day_4/Subject_1_EPOCFLEX_164574_2022.11.15T15.52.10+05.30_final.csv',\n",
              " 'Day_3/Subject_1_EPOCFLEX_164574_2022.11.11T12.36.16+05.30_final.csv',\n",
              " 'Day_4/Subject_1_EPOCFLEX_164574_2022.11.15T15.22.12+05.30_final.csv',\n",
              " 'Day_3/Subject_1_EPOCFLEX_164574_2022.11.11T12.24.55+05.30_final.csv',\n",
              " 'Day_3/Subject_1_EPOCFLEX_164574_2022.11.11T11.20.53+05.30_final.csv',\n",
              " 'Day_4/Subject_1_EPOCFLEX_164574_2022.11.15T15.47.56+05.30_final.csv',\n",
              " 'Day_3/Subject_1_EPOCFLEX_164574_2022.11.11T11.53.13+05.30_final.csv',\n",
              " 'Day_2/Subject_1_EPOCFLEX_164574_2022.10.19T14.24.49+05.30_final.csv',\n",
              " 'Day_3/Subject_1_EPOCFLEX_164574_2022.11.11T12.01.03+05.30_final.csv',\n",
              " 'Day_4/Subject_1_EPOCFLEX_164574_2022.11.15T15.11.53+05.30_final.csv',\n",
              " 'Day_4/Subject_1_EPOCFLEX_164574_2022.11.15T15.08.08+05.30_final.csv',\n",
              " 'Day_4/Subject_1_EPOCFLEX_164574_2022.11.15T16.08.42+05.30_final.csv',\n",
              " 'Day_4/Subject_1_EPOCFLEX_164574_2022.11.15T15.38.12+05.30_final.csv',\n",
              " 'Day_3/Subject_1_EPOCFLEX_164574_2022.11.11T11.46.20+05.30_final.csv',\n",
              " 'Day_3/Subject_1_EPOCFLEX_164574_2022.11.11T12.39.00+05.30_final.csv',\n",
              " 'Day_4/Subject_1_EPOCFLEX_164574_2022.11.15T16.04.23+05.30_final.csv',\n",
              " 'Day_2/Subject_1_EPOCFLEX_164574_2022.10.19T14.30.57+05.30_final.csv',\n",
              " 'Day_3/Subject_1_EPOCFLEX_164574_2022.11.11T11.57.12+05.30_final.csv',\n",
              " 'Day_3/Subject_1_EPOCFLEX_164574_2022.11.11T12.15.46+05.30_final.csv',\n",
              " 'Day_2/Subject_1_EPOCFLEX_164574_2022.10.19T14.11.53+05.30_final.csv',\n",
              " 'Day_2/Subject_1_EPOCFLEX_164574_2022.10.19T14.02.47+05.30_final.csv',\n",
              " 'Day_3/Subject_1_EPOCFLEX_164574_2022.11.11T11.23.00+05.30_final.csv']"
            ]
          },
          "metadata": {},
          "execution_count": 8
        }
      ]
    },
    {
      "cell_type": "code",
      "source": [
        "import pandas as pd\n",
        "\n",
        "columns = ['EEG.Cz', 'EEG.Fz', 'EEG.Fp1', 'EEG.F7', 'EEG.F3', 'EEG.FC1', \n",
        "           'EEG.C3', 'EEG.FC5','EEG.FT9', 'EEG.T7', 'EEG.CP5', 'EEG.CP1', \n",
        "           'EEG.P3', 'EEG.P7', 'EEG.PO9', 'EEG.O1', 'EEG.Pz', 'EEG.Oz', \n",
        "           'EEG.O2', 'EEG.PO10', 'EEG.P8', 'EEG.P4', 'EEG.CP2', 'EEG.CP6', \n",
        "           'EEG.T8', 'EEG.FT10', 'EEG.FC6', 'EEG.C4', 'EEG.FC2', 'EEG.F4', \n",
        "           'EEG.F8', 'EEG.Fp2', 'Movement Label Index', 'Movement Label Name']\n",
        "\n",
        "prev_df = pd.DataFrame({})\n",
        "for f in files:\n",
        "    df = pd.read_csv(PATH+f)\n",
        "    df = df[columns]\n",
        "    prev_df = pd.concat([prev_df, df])\n",
        "    print(prev_df.shape)\n",
        "df = prev_df"
      ],
      "metadata": {
        "id": "09ekcJwI6eFK",
        "colab": {
          "base_uri": "https://localhost:8080/"
        },
        "outputId": "9cc7d9b0-5ec4-4217-9c9b-973627f8a718"
      },
      "execution_count": null,
      "outputs": [
        {
          "output_type": "stream",
          "name": "stdout",
          "text": [
            "(23687, 34)\n",
            "(29124, 34)\n",
            "(31855, 34)\n",
            "(39892, 34)\n",
            "(54005, 34)\n",
            "(78202, 34)\n",
            "(92185, 34)\n",
            "(97423, 34)\n",
            "(107511, 34)\n",
            "(120519, 34)\n",
            "(154062, 34)\n",
            "(156578, 34)\n",
            "(159777, 34)\n",
            "(180980, 34)\n",
            "(186269, 34)\n",
            "(194127, 34)\n",
            "(215563, 34)\n",
            "(238204, 34)\n",
            "(242431, 34)\n",
            "(257733, 34)\n",
            "(271718, 34)\n",
            "(274485, 34)\n",
            "(291680, 34)\n",
            "(295905, 34)\n",
            "(303401, 34)\n",
            "(324746, 34)\n",
            "(339368, 34)\n",
            "(348984, 34)\n",
            "(357218, 34)\n",
            "(366963, 34)\n",
            "(384366, 34)\n",
            "(386585, 34)\n",
            "(409238, 34)\n",
            "(412804, 34)\n",
            "(420911, 34)\n",
            "(430440, 34)\n",
            "(451791, 34)\n",
            "(473614, 34)\n",
            "(479317, 34)\n",
            "(497081, 34)\n",
            "(518909, 34)\n",
            "(547176, 34)\n",
            "(554163, 34)\n",
            "(569798, 34)\n",
            "(578969, 34)\n",
            "(593684, 34)\n",
            "(610168, 34)\n"
          ]
        }
      ]
    },
    {
      "cell_type": "code",
      "source": [
        "# df['Movement Label Index'] = df['Movement Label Index'].replace(-1, 0) # none = rest\n",
        "df = df.loc[df['Movement Label Index'] >= 0] # remove none\n",
        "\n",
        "num_labels = 9\n",
        "\n",
        "df['Movement Label Name'].value_counts()"
      ],
      "metadata": {
        "colab": {
          "base_uri": "https://localhost:8080/"
        },
        "id": "JhqYrOKIOAEQ",
        "outputId": "0949104e-8710-4cc5-8165-08415b9c9961"
      },
      "execution_count": null,
      "outputs": [
        {
          "output_type": "execute_result",
          "data": {
            "text/plain": [
              "elbow_up            71793\n",
              "grab                69273\n",
              "elbow_down          68395\n",
              "release             53905\n",
              "wrist_supination    52563\n",
              "wrist_pronation     48767\n",
              "shoulder_right      42850\n",
              "shoulder_left       41300\n",
              "rest                34517\n",
              "Name: Movement Label Name, dtype: int64"
            ]
          },
          "metadata": {},
          "execution_count": 10
        }
      ]
    },
    {
      "cell_type": "code",
      "source": [
        "df['Movement Label Index'].value_counts()"
      ],
      "metadata": {
        "colab": {
          "base_uri": "https://localhost:8080/"
        },
        "id": "Yhtio3saPcEe",
        "outputId": "193d6bcb-79c1-4d9f-bf3b-1d877cc48fae"
      },
      "execution_count": null,
      "outputs": [
        {
          "output_type": "execute_result",
          "data": {
            "text/plain": [
              "3    71793\n",
              "1    69273\n",
              "4    68395\n",
              "2    53905\n",
              "5    52563\n",
              "6    48767\n",
              "7    42850\n",
              "8    41300\n",
              "0    34517\n",
              "Name: Movement Label Index, dtype: int64"
            ]
          },
          "metadata": {},
          "execution_count": 11
        }
      ]
    },
    {
      "cell_type": "code",
      "source": [
        "import numpy as np\n",
        "\n",
        "X = df.iloc[:, :32].values\n",
        "y = df.iloc[:, 32].values.reshape(-1, 1)\n",
        "\n",
        "# one-hot encoding\n",
        "new_y = []\n",
        "for i in y:\n",
        "    a = np.zeros(num_labels)\n",
        "    a[i] = 1\n",
        "    new_y.append(a)\n",
        "y = np.array(new_y)\n",
        "\n",
        "X.shape, y.shape "
      ],
      "metadata": {
        "colab": {
          "base_uri": "https://localhost:8080/"
        },
        "id": "f6LDgTryPA1q",
        "outputId": "7502d1d9-728c-4088-a983-9202e018e595"
      },
      "execution_count": null,
      "outputs": [
        {
          "output_type": "execute_result",
          "data": {
            "text/plain": [
              "((483363, 32), (483363, 9))"
            ]
          },
          "metadata": {},
          "execution_count": 12
        }
      ]
    },
    {
      "cell_type": "code",
      "source": [
        "from sklearn.model_selection import train_test_split\n",
        "\n",
        "X_train, X_test, y_train, y_test = train_test_split(X, y, test_size=0.2, random_state=42)\n",
        "X_val, X_test, y_val, y_test = train_test_split(X_test, y_test, test_size=0.5, random_state=42)\n",
        "\n",
        "X_train.shape, y_train.shape, X_val.shape, y_val.shape, X_test.shape, y_test.shape"
      ],
      "metadata": {
        "colab": {
          "base_uri": "https://localhost:8080/"
        },
        "id": "MWdthAYwPloM",
        "outputId": "33648faa-b37b-4ff9-9220-97283df7444f"
      },
      "execution_count": null,
      "outputs": [
        {
          "output_type": "execute_result",
          "data": {
            "text/plain": [
              "((386690, 32), (386690, 9), (48336, 32), (48336, 9), (48337, 32), (48337, 9))"
            ]
          },
          "metadata": {},
          "execution_count": 13
        }
      ]
    },
    {
      "cell_type": "markdown",
      "source": [
        "# Tensorflow GA-LSTM\n",
        "using http://aqibsaeed.github.io/2017-08-11-genetic-algorithm-for-optimizing-rnn/"
      ],
      "metadata": {
        "id": "36JLwJd9zGcN"
      }
    },
    {
      "cell_type": "code",
      "source": [
        "from sklearn.metrics import mean_squared_error\n",
        "from tensorflow.keras.models import Sequential\n",
        "from tensorflow.keras.layers import Dense, LSTM, Activation\n",
        "from tensorflow import keras\n",
        "import tensorflow as tf \n",
        "import numpy as np "
      ],
      "metadata": {
        "id": "_OMt1jsRzGGa"
      },
      "execution_count": null,
      "outputs": []
    },
    {
      "cell_type": "code",
      "source": [
        "from tensorflow.keras.utils import Sequence\n",
        "\n",
        "class DataGeneratorTimeSeries(Sequence):\n",
        "    def __init__(self, X, y, n_steps_in, batch_size=64, shuffle=True):\n",
        "        self.X = X\n",
        "        self.y = y\n",
        "        self.n_steps_in = n_steps_in\n",
        "        self.batch_size = batch_size\n",
        "        self.shuffle = shuffle\n",
        "        self.on_epoch_end()\n",
        "    \n",
        "    def __len__(self):\n",
        "        return int(np.ceil((self.X.shape[0]-self.n_steps_in)/float(self.batch_size)))\n",
        "\n",
        "    def get_seq(self, i):\n",
        "        end_ix = i+self.n_steps_in\n",
        "        seq_x, seq_y = self.X[i:end_ix], self.y[end_ix-1:end_ix]\n",
        "        return seq_x, seq_y\n",
        "\n",
        "    def __getitem__(self, index):\n",
        "        if (index+1)*self.batch_size > self.X.shape[0]:\n",
        "            batch = self.indexes[index*self.batch_size:]\n",
        "        else:\n",
        "            batch = self.indexes[index*self.batch_size:(index+1)*self.batch_size]\n",
        "\n",
        "        X, y = [], []\n",
        "        for i in batch:\n",
        "            X_item, y_item = self.get_seq(i)\n",
        "            X.append(X_item)\n",
        "            y.append(y_item)\n",
        "\n",
        "        X, y = np.array(X), np.array(y)\n",
        "        y = np.reshape(y, (y.shape[0], y.shape[1]*y.shape[2]))\n",
        "\n",
        "        return X, y\n",
        "\n",
        "    def on_epoch_end(self):\n",
        "        self.indexes = np.arange(self.X.shape[0]-self.n_steps_in)\n",
        "        if self.shuffle == True:\n",
        "            np.random.shuffle(self.indexes)"
      ],
      "metadata": {
        "id": "9KGRdLgkzLVG"
      },
      "execution_count": null,
      "outputs": []
    },
    {
      "cell_type": "code",
      "source": [
        "train_generator = DataGeneratorTimeSeries(X_train, y_train, n_steps_in=10, batch_size=64, shuffle=True)\n",
        "val_generator = DataGeneratorTimeSeries(X_val, y_val, n_steps_in=10, batch_size=64, shuffle=False)\n",
        "\n",
        "len(train_generator), len(val_generator)"
      ],
      "metadata": {
        "id": "gsSe98MuzL8s",
        "colab": {
          "base_uri": "https://localhost:8080/"
        },
        "outputId": "9a3c9a44-fb52-48d1-b6ab-61a7d03daf93"
      },
      "execution_count": null,
      "outputs": [
        {
          "output_type": "execute_result",
          "data": {
            "text/plain": [
              "(6042, 756)"
            ]
          },
          "metadata": {},
          "execution_count": 16
        }
      ]
    },
    {
      "cell_type": "code",
      "source": [
        "X, y = val_generator.__getitem__(0)\n",
        "# print(np.all(X[0] == X_val[0:10]), np.all(y[0] == y_val[9]))\n",
        "print(X.shape, y.shape)\n",
        "\n",
        "X, y = train_generator.__getitem__(0)\n",
        "# print(np.all(X[0] == X_train[0:10]), np.all(y[0] == y_train[9]))\n",
        "print(X.shape, y.shape)"
      ],
      "metadata": {
        "id": "YYXHANhJzONs",
        "colab": {
          "base_uri": "https://localhost:8080/"
        },
        "outputId": "f89e208f-c3d2-4524-d38d-b80c1e16c819"
      },
      "execution_count": null,
      "outputs": [
        {
          "output_type": "stream",
          "name": "stdout",
          "text": [
            "(64, 10, 32) (64, 9)\n",
            "(64, 10, 32) (64, 9)\n"
          ]
        }
      ]
    },
    {
      "cell_type": "code",
      "source": [
        "def train_evaluate(ga_individual_solution):\n",
        "    # Decode GA solution to integer for window_size and num_units\n",
        "    print(ga_individual_solution)\n",
        "    window_size_bits = BitArray(ga_individual_solution[0:6])\n",
        "    num_units_bits = BitArray(ga_individual_solution[6:14])\n",
        "    num_epochs = BitArray(ga_individual_solution[14:])\n",
        "    window_size = window_size_bits.uint\n",
        "    num_units = num_units_bits.uint\n",
        "    num_epochs = num_epochs.uint\n",
        "    print('Window Size:', window_size, '| Num of Units:', num_units, '| Epochs:', num_epochs)\n",
        "\n",
        "    # Return fitness score of 100 if window_size or num_unit is zero\n",
        "    if window_size == 0 or num_units == 0:\n",
        "        return 100,\n",
        "\n",
        "    # Segment the data based on new window_size\n",
        "    train_generator = DataGeneratorTimeSeries(X_train, y_train, n_steps_in=window_size, batch_size=64, shuffle=True)\n",
        "    val_generator = DataGeneratorTimeSeries(X_val, y_val, n_steps_in=window_size, batch_size=64, shuffle=False)\n",
        "    test_generator = DataGeneratorTimeSeries(X_test, y_test, n_steps_in=window_size, batch_size=64, shuffle=False)\n",
        "\n",
        "    # Train LSTM model and predict on validation set\n",
        "    model = Sequential()\n",
        "    model.add(LSTM(num_units, activation='tanh', return_sequences=True, input_shape=(window_size, 32)))\n",
        "    model.add(LSTM(num_units, activation='tanh'))\n",
        "    model.add(Dense(num_labels, activation='softmax'))\n",
        "    # model.add(Activation('softmax'))\n",
        "    model.compile(loss=\"categorical_crossentropy\",\n",
        "                optimizer=\"adam\", \n",
        "                metrics=[tf.keras.metrics.CategoricalAccuracy()])\n",
        "    history = model.fit(train_generator, \n",
        "                        validation_data=val_generator, \n",
        "                        epochs=num_epochs, \n",
        "                        verbose=1)\n",
        "\n",
        "    scores = model.evaluate(test_generator)\n",
        "    return scores[0],"
      ],
      "metadata": {
        "id": "cdxjSCSb4TFx"
      },
      "execution_count": null,
      "outputs": []
    },
    {
      "cell_type": "code",
      "source": [
        "!pip install deap\n",
        "!pip install bitstring\n",
        "from deap import base, creator, tools, algorithms\n",
        "from scipy.stats import bernoulli\n",
        "from bitstring import BitArray\n",
        "population_size = 5\n",
        "num_generations = 4\n",
        "gene_length = 19\n",
        "\n",
        "# As we are trying to minimize the RMSE score, that's why using -1.0.\n",
        "# In case, when you want to maximize accuracy for instance, use 1.0\n",
        "creator.create('FitnessMax', base.Fitness, weights=(-1.0,))\n",
        "creator.create('Individual', list, fitness=creator.FitnessMax)\n",
        "\n",
        "toolbox = base.Toolbox()\n",
        "toolbox.register('binary', bernoulli.rvs, 0.5)\n",
        "toolbox.register('individual', tools.initRepeat, creator.Individual, toolbox.binary, n=gene_length)\n",
        "toolbox.register('population', tools.initRepeat, list, toolbox.individual)\n",
        "\n",
        "# bit = toolbox.binary()\n",
        "# ind = toolbox.individual()\n",
        "# pop = toolbox.population(n=3)\n",
        "\n",
        "# print(\"bit is of type %s and has value\\n%s\" % (type(bit), bit))\n",
        "# print(\"ind is of type %s and contains %d bits\\n%s\" % (type(ind), len(ind), ind))\n",
        "# print(\"pop is of type %s and contains %d individuals\\n%s\" % (type(pop), len(pop), pop))\n",
        "\n",
        "toolbox.register('mate', tools.cxOrdered)\n",
        "toolbox.register('mutate', tools.mutFlipBit, indpb=0.1)\n",
        "toolbox.register('select', tools.selRoulette)\n",
        "toolbox.register('evaluate', train_evaluate)\n",
        "\n",
        "population = toolbox.population(n=population_size)\n",
        "hof = tools.HallOfFame(1)\n",
        "r = algorithms.eaSimple(population, toolbox, cxpb=0.4, mutpb=0.2, ngen=num_generations, halloffame=hof, verbose=True)"
      ],
      "metadata": {
        "id": "7zqmwG_U6puk"
      },
      "execution_count": null,
      "outputs": []
    },
    {
      "cell_type": "code",
      "source": [
        "# Print top N solutions - (1st only, for now)\n",
        "best_individuals = tools.selBest(population, k=1)\n",
        "best_window_size = None\n",
        "best_num_units = None\n",
        "best_num_epochs = None\n",
        "\n",
        "for bi in best_individuals:\n",
        "    window_size_bits = BitArray(bi[0:6])\n",
        "    num_units_bits = BitArray(bi[6:14])\n",
        "    num_epochs = BitArray(bi[14:])\n",
        "    best_window_size = window_size_bits.uint\n",
        "    best_num_units = num_units_bits.uint\n",
        "    best_num_epochs = num_epochs.uint\n",
        "    print('Window Size:', best_window_size)\n",
        "    print('Num of Units:', best_num_units)\n",
        "    print('Epochs:', best_num_epochs)"
      ],
      "metadata": {
        "id": "Yap4oDDX7DwA"
      },
      "execution_count": null,
      "outputs": []
    },
    {
      "cell_type": "code",
      "source": [
        "best_window_size = 20\n",
        "best_num_units = 200\n",
        "best_num_epochs = 25 "
      ],
      "metadata": {
        "id": "F4HW1sSfTTL-"
      },
      "execution_count": null,
      "outputs": []
    },
    {
      "cell_type": "code",
      "source": [
        "train_generator = DataGeneratorTimeSeries(X_train, y_train, n_steps_in=best_window_size, batch_size=64, shuffle=True)\n",
        "val_generator = DataGeneratorTimeSeries(X_val, y_val, n_steps_in=best_window_size, batch_size=64, shuffle=False)\n",
        "test_generator = DataGeneratorTimeSeries(X_test, y_test, n_steps_in=best_window_size, batch_size=64, shuffle=False)\n",
        "\n",
        "# Train LSTM model and predict on validation set\n",
        "model = Sequential()\n",
        "model.add(LSTM(best_num_units, activation='tanh', return_sequences=True, input_shape=(best_window_size, 32)))\n",
        "model.add(LSTM(best_num_units, activation='tanh'))\n",
        "model.add(Dense(num_labels, activation='softmax'))\n",
        "model.compile(loss=\"categorical_crossentropy\",\n",
        "              optimizer=\"adam\", \n",
        "              metrics=[tf.keras.metrics.CategoricalAccuracy()])\n",
        "history = model.fit(train_generator, \n",
        "                    validation_data=val_generator, \n",
        "                    epochs=best_num_epochs, \n",
        "                    verbose=1)\n",
        "\n",
        "scores = model.evaluate_generator(test_generator)\n",
        "scores"
      ],
      "metadata": {
        "id": "ay32u5ig7Iz7",
        "colab": {
          "base_uri": "https://localhost:8080/"
        },
        "outputId": "846c422e-75bc-416c-f477-7cbf7ba17d6e"
      },
      "execution_count": null,
      "outputs": [
        {
          "output_type": "stream",
          "name": "stdout",
          "text": [
            "Epoch 1/25\n",
            "6042/6042 [==============================] - 53s 8ms/step - loss: 1.5798 - categorical_accuracy: 0.4183 - val_loss: 1.2655 - val_categorical_accuracy: 0.5456\n",
            "Epoch 2/25\n",
            "6042/6042 [==============================] - 50s 8ms/step - loss: 1.0448 - categorical_accuracy: 0.6289 - val_loss: 0.9088 - val_categorical_accuracy: 0.6806\n",
            "Epoch 3/25\n",
            "6042/6042 [==============================] - 51s 8ms/step - loss: 0.7867 - categorical_accuracy: 0.7254 - val_loss: 0.7342 - val_categorical_accuracy: 0.7440\n",
            "Epoch 4/25\n",
            "6042/6042 [==============================] - 51s 8ms/step - loss: 0.6396 - categorical_accuracy: 0.7782 - val_loss: 0.6487 - val_categorical_accuracy: 0.7759\n",
            "Epoch 5/25\n",
            "6042/6042 [==============================] - 50s 8ms/step - loss: 0.5524 - categorical_accuracy: 0.8096 - val_loss: 0.5854 - val_categorical_accuracy: 0.7969\n",
            "Epoch 6/25\n",
            "6042/6042 [==============================] - 50s 8ms/step - loss: 0.4908 - categorical_accuracy: 0.8310 - val_loss: 0.5349 - val_categorical_accuracy: 0.8157\n",
            "Epoch 7/25\n",
            "6042/6042 [==============================] - 49s 8ms/step - loss: 0.4440 - categorical_accuracy: 0.8466 - val_loss: 0.5072 - val_categorical_accuracy: 0.8250\n",
            "Epoch 8/25\n",
            "6042/6042 [==============================] - 48s 8ms/step - loss: 0.4137 - categorical_accuracy: 0.8573 - val_loss: 0.4967 - val_categorical_accuracy: 0.8293\n",
            "Epoch 9/25\n",
            "6042/6042 [==============================] - 50s 8ms/step - loss: 0.3854 - categorical_accuracy: 0.8672 - val_loss: 0.4745 - val_categorical_accuracy: 0.8376\n",
            "Epoch 10/25\n",
            "6042/6042 [==============================] - 50s 8ms/step - loss: 0.3638 - categorical_accuracy: 0.8747 - val_loss: 0.4546 - val_categorical_accuracy: 0.8438\n",
            "Epoch 11/25\n",
            "6042/6042 [==============================] - 49s 8ms/step - loss: 0.3449 - categorical_accuracy: 0.8813 - val_loss: 0.4557 - val_categorical_accuracy: 0.8445\n",
            "Epoch 12/25\n",
            "6042/6042 [==============================] - 50s 8ms/step - loss: 0.3298 - categorical_accuracy: 0.8857 - val_loss: 0.4437 - val_categorical_accuracy: 0.8496\n",
            "Epoch 13/25\n",
            "6042/6042 [==============================] - 49s 8ms/step - loss: 0.3189 - categorical_accuracy: 0.8897 - val_loss: 0.4332 - val_categorical_accuracy: 0.8530\n",
            "Epoch 14/25\n",
            "6042/6042 [==============================] - 48s 8ms/step - loss: 0.3076 - categorical_accuracy: 0.8937 - val_loss: 0.4227 - val_categorical_accuracy: 0.8555\n",
            "Epoch 15/25\n",
            "6042/6042 [==============================] - 50s 8ms/step - loss: 0.2962 - categorical_accuracy: 0.8967 - val_loss: 0.4096 - val_categorical_accuracy: 0.8630\n",
            "Epoch 16/25\n",
            "6042/6042 [==============================] - 49s 8ms/step - loss: 0.2960 - categorical_accuracy: 0.8973 - val_loss: 0.4305 - val_categorical_accuracy: 0.8549\n",
            "Epoch 17/25\n",
            "6042/6042 [==============================] - 48s 8ms/step - loss: 0.2810 - categorical_accuracy: 0.9030 - val_loss: 0.4154 - val_categorical_accuracy: 0.8598\n",
            "Epoch 18/25\n",
            "6042/6042 [==============================] - 49s 8ms/step - loss: 0.2765 - categorical_accuracy: 0.9039 - val_loss: 0.4172 - val_categorical_accuracy: 0.8603\n",
            "Epoch 19/25\n",
            "6042/6042 [==============================] - 49s 8ms/step - loss: 0.2679 - categorical_accuracy: 0.9075 - val_loss: 0.3903 - val_categorical_accuracy: 0.8693\n",
            "Epoch 20/25\n",
            "6042/6042 [==============================] - 48s 8ms/step - loss: 0.2617 - categorical_accuracy: 0.9093 - val_loss: 0.4079 - val_categorical_accuracy: 0.8650\n",
            "Epoch 21/25\n",
            "6042/6042 [==============================] - 48s 8ms/step - loss: 0.2556 - categorical_accuracy: 0.9107 - val_loss: 0.3796 - val_categorical_accuracy: 0.8741\n",
            "Epoch 22/25\n",
            "6042/6042 [==============================] - 48s 8ms/step - loss: 0.2476 - categorical_accuracy: 0.9136 - val_loss: 0.3946 - val_categorical_accuracy: 0.8675\n",
            "Epoch 23/25\n",
            "6042/6042 [==============================] - 48s 8ms/step - loss: 0.2466 - categorical_accuracy: 0.9144 - val_loss: 0.4110 - val_categorical_accuracy: 0.8649\n",
            "Epoch 24/25\n",
            "6042/6042 [==============================] - 48s 8ms/step - loss: 0.2459 - categorical_accuracy: 0.9147 - val_loss: 0.3758 - val_categorical_accuracy: 0.8755\n",
            "Epoch 25/25\n",
            "6042/6042 [==============================] - 48s 8ms/step - loss: 0.2354 - categorical_accuracy: 0.9184 - val_loss: 0.3708 - val_categorical_accuracy: 0.8770\n"
          ]
        },
        {
          "output_type": "stream",
          "name": "stderr",
          "text": [
            "/usr/local/lib/python3.7/dist-packages/ipykernel_launcher.py:18: UserWarning: `Model.evaluate_generator` is deprecated and will be removed in a future version. Please use `Model.evaluate`, which supports generators.\n"
          ]
        },
        {
          "output_type": "execute_result",
          "data": {
            "text/plain": [
              "[0.3681558072566986, 0.8773930668830872]"
            ]
          },
          "metadata": {},
          "execution_count": 23
        }
      ]
    },
    {
      "cell_type": "markdown",
      "source": [
        "## Inference"
      ],
      "metadata": {
        "id": "ev0kaALLjFWb"
      }
    },
    {
      "cell_type": "code",
      "source": [
        "timestep = 20\n",
        "# model.save(f'/content/drive/MyDrive/models/Capstone/eeg_model_4_{timestep}.h5')\n",
        "model = tf.keras.models.load_model(f'/content/drive/MyDrive/models/Capstone/eeg_model_4_{timestep}.h5')"
      ],
      "metadata": {
        "id": "V-1MyONAaVdH"
      },
      "execution_count": null,
      "outputs": []
    },
    {
      "cell_type": "code",
      "source": [
        "# train_generator = DataGeneratorTimeSeries(X_train, y_train, n_steps_in=timestep, batch_size=64, shuffle=True)\n",
        "# val_generator = DataGeneratorTimeSeries(X_val, y_val, n_steps_in=timestep, batch_size=64, shuffle=False)\n",
        "test_generator = DataGeneratorTimeSeries(X_test, y_test, n_steps_in=timestep, batch_size=64, shuffle=False)"
      ],
      "metadata": {
        "id": "n-4Ao6mDcvnk"
      },
      "execution_count": null,
      "outputs": []
    },
    {
      "cell_type": "code",
      "source": [
        "from sklearn.metrics import confusion_matrix\n",
        "import matplotlib.pyplot as plt\n",
        "import seaborn as sns\n",
        "\n",
        "sns.set_style({'font.family':'serif', 'font.serif':'Times New Roman'})\n",
        "# sns.set(font_scale=1.4)\n",
        "\n",
        "total = 0\n",
        "correct = 0\n",
        "y_test_class, y_pred_class = [], []\n",
        "for X_, y_ in test_generator:\n",
        "    y_pred = model.predict(X_, verbose=0)\n",
        "    y_ = np.argmax(y_, axis=1)\n",
        "    y_pred = np.argmax(y_pred, axis=1)\n",
        "    for i in range(len(y_pred)):\n",
        "        if y_pred[i]==y_[i]:\n",
        "            correct += 1\n",
        "    y_test_class.extend(y_)\n",
        "    y_pred_class.extend(y_pred)\n",
        "    total += len(y_pred)\n",
        "\n",
        "print(correct/total)\n",
        "fig, ax = plt.subplots(figsize=(15,10))\n",
        "cf_matrix = confusion_matrix(y_test_class, y_pred_class)\n",
        "sns.heatmap(cf_matrix, annot=True, fmt=\"d\", annot_kws={'size': 18})"
      ],
      "metadata": {
        "colab": {
          "base_uri": "https://localhost:8080/",
          "height": 634
        },
        "id": "Qxx4HEPKTVG2",
        "outputId": "066507a6-5486-4307-87fd-044e401e14a5"
      },
      "execution_count": null,
      "outputs": [
        {
          "output_type": "stream",
          "name": "stdout",
          "text": [
            "0.8932673800111762\n"
          ]
        },
        {
          "output_type": "execute_result",
          "data": {
            "text/plain": [
              "<matplotlib.axes._subplots.AxesSubplot at 0x7fc64e105580>"
            ]
          },
          "metadata": {},
          "execution_count": 72
        },
        {
          "output_type": "display_data",
          "data": {
            "text/plain": [
              "<Figure size 1080x720 with 2 Axes>"
            ],
            "image/png": "[encoded data removed]"
          },
          "metadata": {}
        }
      ]
    },
    {
      "cell_type": "code",
      "source": [
        "fig.savefig(f'/content/drive/MyDrive/models/Capstone/confusion_matrix_{timestep}.eps', format='eps', dpi=600, bbox_inches='tight')\n",
        "fig.savefig(f'/content/drive/MyDrive/models/Capstone/confusion_matrix_{timestep}.png', format='png', dpi=600, bbox_inches='tight')"
      ],
      "metadata": {
        "id": "xC528cNBqny5"
      },
      "execution_count": null,
      "outputs": []
    },
    {
      "cell_type": "code",
      "source": [
        "from sklearn.metrics import classification_report\n",
        "\n",
        "print(classification_report(y_test_class, y_pred_class))"
      ],
      "metadata": {
        "colab": {
          "base_uri": "https://localhost:8080/"
        },
        "id": "mor9AK0Xixue",
        "outputId": "f66d24ab-e492-4055-f4cf-643756bcf21b"
      },
      "execution_count": null,
      "outputs": [
        {
          "output_type": "stream",
          "name": "stdout",
          "text": [
            "              precision    recall  f1-score   support\n",
            "\n",
            "           0       0.95      0.95      0.95      3481\n",
            "           1       0.88      0.90      0.89      6883\n",
            "           2       0.89      0.89      0.89      5293\n",
            "           3       0.89      0.89      0.89      7140\n",
            "           4       0.90      0.91      0.90      6978\n",
            "           5       0.89      0.87      0.88      5237\n",
            "           6       0.88      0.89      0.89      4859\n",
            "           7       0.91      0.87      0.89      4269\n",
            "           8       0.88      0.87      0.87      4177\n",
            "\n",
            "    accuracy                           0.89     48317\n",
            "   macro avg       0.90      0.89      0.89     48317\n",
            "weighted avg       0.89      0.89      0.89     48317\n",
            "\n"
          ]
        }
      ]
    },
    {
      "cell_type": "markdown",
      "source": [
        "# Graphs"
      ],
      "metadata": {
        "id": "8_vgcQDK0QdE"
      }
    },
    {
      "cell_type": "code",
      "source": [
        "import matplotlib.pyplot as plt\n",
        "import seaborn as sns\n",
        "\n",
        "sns.set(font_scale=1.3)\n",
        "sns.set_style({'font.family':'serif', 'font.serif':'Times New Roman'})\n",
        "\n",
        "labels = ['elbow_up', 'grip', 'elbow_down', 'release', 'wrist_supination', 'wrist_pronation', 'shoulder_right', 'shoulder_left', 'rest']\n",
        "values = [71793, 69273, 68395, 53905, 52563, 48767, 42850, 41300, 34517]\n",
        "\n",
        "fig = plt.figure(figsize = (9, 5))\n",
        "\n",
        "plt.bar(labels, values, color='blue', width=0.4)\n",
        "\n",
        "plt.xticks(rotation = 45)\n",
        "plt.xlabel(\"Movement Labels\")\n",
        "plt.ylabel(\"Data Points\")\n",
        "plt.title(\"Entries in Dataset per Label\")\n",
        "fig.savefig(f'/content/drive/MyDrive/models/Capstone/dataset.eps', format='eps', dpi=600, bbox_inches='tight')\n",
        "plt.show()"
      ],
      "metadata": {
        "colab": {
          "base_uri": "https://localhost:8080/",
          "height": 447
        },
        "id": "DkYXeirl0QBo",
        "outputId": "f57a1503-604f-4580-e07b-d1162ed417f2"
      },
      "execution_count": null,
      "outputs": [
        {
          "output_type": "display_data",
          "data": {
            "text/plain": [
              "<Figure size 648x360 with 1 Axes>"
            ],
            "image/png": "[encoded data removed]"
          },
          "metadata": {}
        }
      ]
    },
    {
      "cell_type": "code",
      "source": [],
      "metadata": {
        "id": "Is3lH49SWi2K"
      },
      "execution_count": null,
      "outputs": []
    }
  ]
}